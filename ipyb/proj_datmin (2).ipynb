{
  "cells": [
    {
      "cell_type": "markdown",
      "metadata": {
        "id": "qW9IGcVuBnqz"
      },
      "source": [
        "#**LIBRARY**"
      ]
    },
    {
      "cell_type": "code",
      "execution_count": null,
      "metadata": {
        "id": "QrUTL3IlBb1R"
      },
      "outputs": [
        {
          "ename": "",
          "evalue": "",
          "output_type": "error",
          "traceback": [
            "\u001b[1;31mFailed to start the Kernel. \n",
            "\u001b[1;31mConnection is disposed. \n",
            "\u001b[1;31mView Jupyter <a href='command:jupyter.viewOutput'>log</a> for further details."
          ]
        }
      ],
      "source": [
        "import json\n",
        "import re\n",
        "import string\n",
        "import warnings\n",
        "\n",
        "import matplotlib.pyplot as plt\n",
        "import numpy as np\n",
        "import pandas as pd\n",
        "import plotly.express as px\n",
        "import plotly.graph_objects as go\n",
        "import seaborn as sns\n",
        "import tensorflow as tf\n",
        "\n",
        "import nltk\n",
        "from Sastrawi.Stemmer.StemmerFactory import StemmerFactory\n",
        "from Sastrawi.StopWordRemover.StopWordRemoverFactory import StopWordRemoverFactory\n",
        "from nlp_id.lemmatizer import Lemmatizer\n",
        "from nlp_id.stopword import StopWord\n",
        "from nlp_id.tokenizer import Tokenizer\n",
        "from sklearn.metrics import accuracy_score, classification_report, confusion_matrix, precision_score, recall_score, f1_score\n",
        "from sklearn.model_selection import train_test_split\n",
        "from transformers import BertTokenizer, TFBertForSequenceClassification\n",
        "from wordcloud import WordCloud\n",
        "\n",
        "import joblib"
      ]
    },
    {
      "cell_type": "code",
      "execution_count": null,
      "metadata": {
        "id": "3sClZkuGFe0Y"
      },
      "outputs": [],
      "source": [
        "warnings.filterwarnings('ignore')\n",
        "np.set_printoptions(precision=2, linewidth=80)"
      ]
    },
    {
      "cell_type": "code",
      "execution_count": null,
      "metadata": {
        "colab": {
          "base_uri": "https://localhost:8080/"
        },
        "id": "5TubPDYjEx10",
        "outputId": "dd56e59c-c695-4011-dd26-e21474a2f683"
      },
      "outputs": [
        {
          "name": "stdout",
          "output_type": "stream",
          "text": [
            "Downloading NLTK 'punkt' tokenizer...\n"
          ]
        },
        {
          "name": "stderr",
          "output_type": "stream",
          "text": [
            "[nltk_data] Downloading package punkt to /root/nltk_data...\n",
            "[nltk_data]   Unzipping tokenizers/punkt.zip.\n"
          ]
        },
        {
          "name": "stdout",
          "output_type": "stream",
          "text": [
            "Downloading NLTK 'stopwords' corpus...\n",
            "Downloading NLTK 'wordnet' corpus...\n"
          ]
        },
        {
          "name": "stderr",
          "output_type": "stream",
          "text": [
            "[nltk_data] Downloading package stopwords to /root/nltk_data...\n",
            "[nltk_data]   Unzipping corpora/stopwords.zip.\n",
            "[nltk_data] Downloading package wordnet to /root/nltk_data...\n"
          ]
        },
        {
          "data": {
            "text/plain": [
              "True"
            ]
          },
          "execution_count": 4,
          "metadata": {},
          "output_type": "execute_result"
        }
      ],
      "source": [
        "# --- BAGIAN NLTK TANPA TRY-EXCEPT ---\n",
        "# Mengunduh resource NLTK yang dibutuhkan secara langsung\n",
        "print(\"Downloading NLTK 'punkt' tokenizer...\")\n",
        "nltk.download('punkt')\n",
        "\n",
        "print(\"Downloading NLTK 'stopwords' corpus...\")\n",
        "nltk.download('stopwords')\n",
        "\n",
        "print(\"Downloading NLTK 'wordnet' corpus...\")\n",
        "nltk.download('wordnet')"
      ]
    },
    {
      "cell_type": "markdown",
      "metadata": {
        "id": "WOlLl85sBsDP"
      },
      "source": [
        "#**Data**"
      ]
    },
    {
      "cell_type": "code",
      "execution_count": null,
      "metadata": {
        "colab": {
          "base_uri": "https://localhost:8080/",
          "height": 206
        },
        "id": "uXprBB0FDsPf",
        "outputId": "d3f507da-73a9-4f30-84b3-03ab2353ef1f"
      },
      "outputs": [
        {
          "data": {
            "application/vnd.google.colaboratory.intrinsic+json": {
              "summary": "{\n  \"name\": \"df\",\n  \"rows\": 19686,\n  \"fields\": [\n    {\n      \"column\": \"Time\",\n      \"properties\": {\n        \"dtype\": \"object\",\n        \"num_unique_values\": 19299,\n        \"samples\": [\n          \"2024-10-23T04:50:26Z\",\n          \"2024-11-07T08:18:06Z\",\n          \"2024-10-25T11:23:16Z\"\n        ],\n        \"semantic_type\": \"\",\n        \"description\": \"\"\n      }\n    },\n    {\n      \"column\": \"UserName\",\n      \"properties\": {\n        \"dtype\": \"string\",\n        \"num_unique_values\": 18082,\n        \"samples\": [\n          \"@lutfiajah2799\",\n          \"@bangendu\",\n          \"@Sahmpo99\"\n        ],\n        \"semantic_type\": \"\",\n        \"description\": \"\"\n      }\n    },\n    {\n      \"column\": \"Comment\",\n      \"properties\": {\n        \"dtype\": \"string\",\n        \"num_unique_values\": 19297,\n        \"samples\": [\n          \"Kita akan makin miskin.. Dibuat oleh Aturan negara\",\n          \"WARISAN JOKOWI\",\n          \"Semua yang dia katakan sesuai dengan fakta dan saya mulai merasakannya .... bisnis sekarang susah tidak seperti dulu... penjualan menurun drastis... banyak tempat usaha yang tutup karena sepi pembeli... orang gak bisa belanja...pasar sepi mall sepi UMKM sepi...masa presiden kita gak nyadar dengan fakta di lapangan...\"\n        ],\n        \"semantic_type\": \"\",\n        \"description\": \"\"\n      }\n    },\n    {\n      \"column\": \"LikeCount\",\n      \"properties\": {\n        \"dtype\": \"number\",\n        \"std\": 106,\n        \"min\": 0,\n        \"max\": 10225,\n        \"num_unique_values\": 141,\n        \"samples\": [\n          23,\n          67,\n          141\n        ],\n        \"semantic_type\": \"\",\n        \"description\": \"\"\n      }\n    }\n  ]\n}",
              "type": "dataframe",
              "variable_name": "df"
            },
            "text/html": [
              "\n",
              "  <div id=\"df-0ba08a3c-367c-4b5f-ac97-375e94d682e2\" class=\"colab-df-container\">\n",
              "    <div>\n",
              "<style scoped>\n",
              "    .dataframe tbody tr th:only-of-type {\n",
              "        vertical-align: middle;\n",
              "    }\n",
              "\n",
              "    .dataframe tbody tr th {\n",
              "        vertical-align: top;\n",
              "    }\n",
              "\n",
              "    .dataframe thead th {\n",
              "        text-align: right;\n",
              "    }\n",
              "</style>\n",
              "<table border=\"1\" class=\"dataframe\">\n",
              "  <thead>\n",
              "    <tr style=\"text-align: right;\">\n",
              "      <th></th>\n",
              "      <th>Time</th>\n",
              "      <th>UserName</th>\n",
              "      <th>Comment</th>\n",
              "      <th>LikeCount</th>\n",
              "    </tr>\n",
              "  </thead>\n",
              "  <tbody>\n",
              "    <tr>\n",
              "      <th>0</th>\n",
              "      <td>2025-05-15T15:04:49Z</td>\n",
              "      <td>@fajarhamdani1134</td>\n",
              "      <td>Sangat betul...</td>\n",
              "      <td>0</td>\n",
              "    </tr>\n",
              "    <tr>\n",
              "      <th>1</th>\n",
              "      <td>2025-05-13T21:18:46Z</td>\n",
              "      <td>@SuponoPono-n5g</td>\n",
              "      <td>Ternak MULYONO manaaa ngertiiii......biangnya ...</td>\n",
              "      <td>0</td>\n",
              "    </tr>\n",
              "    <tr>\n",
              "      <th>2</th>\n",
              "      <td>2025-05-13T21:18:23Z</td>\n",
              "      <td>@SuponoPono-n5g</td>\n",
              "      <td>Ternak MULYONO manaaa ngertiiii......biangnya ...</td>\n",
              "      <td>0</td>\n",
              "    </tr>\n",
              "    <tr>\n",
              "      <th>3</th>\n",
              "      <td>2025-05-13T21:12:52Z</td>\n",
              "      <td>@SuponoPono-n5g</td>\n",
              "      <td>Ternak MULYONO manaaa ngertiiii......biangnya ...</td>\n",
              "      <td>0</td>\n",
              "    </tr>\n",
              "    <tr>\n",
              "      <th>4</th>\n",
              "      <td>2025-05-13T21:11:00Z</td>\n",
              "      <td>@SuponoPono-n5g</td>\n",
              "      <td>Ternak MULYONO manaaa ngertiiii......biangnya ...</td>\n",
              "      <td>0</td>\n",
              "    </tr>\n",
              "  </tbody>\n",
              "</table>\n",
              "</div>\n",
              "    <div class=\"colab-df-buttons\">\n",
              "\n",
              "  <div class=\"colab-df-container\">\n",
              "    <button class=\"colab-df-convert\" onclick=\"convertToInteractive('df-0ba08a3c-367c-4b5f-ac97-375e94d682e2')\"\n",
              "            title=\"Convert this dataframe to an interactive table.\"\n",
              "            style=\"display:none;\">\n",
              "\n",
              "  <svg xmlns=\"http://www.w3.org/2000/svg\" height=\"24px\" viewBox=\"0 -960 960 960\">\n",
              "    <path d=\"M120-120v-720h720v720H120Zm60-500h600v-160H180v160Zm220 220h160v-160H400v160Zm0 220h160v-160H400v160ZM180-400h160v-160H180v160Zm440 0h160v-160H620v160ZM180-180h160v-160H180v160Zm440 0h160v-160H620v160Z\"/>\n",
              "  </svg>\n",
              "    </button>\n",
              "\n",
              "  <style>\n",
              "    .colab-df-container {\n",
              "      display:flex;\n",
              "      gap: 12px;\n",
              "    }\n",
              "\n",
              "    .colab-df-convert {\n",
              "      background-color: #E8F0FE;\n",
              "      border: none;\n",
              "      border-radius: 50%;\n",
              "      cursor: pointer;\n",
              "      display: none;\n",
              "      fill: #1967D2;\n",
              "      height: 32px;\n",
              "      padding: 0 0 0 0;\n",
              "      width: 32px;\n",
              "    }\n",
              "\n",
              "    .colab-df-convert:hover {\n",
              "      background-color: #E2EBFA;\n",
              "      box-shadow: 0px 1px 2px rgba(60, 64, 67, 0.3), 0px 1px 3px 1px rgba(60, 64, 67, 0.15);\n",
              "      fill: #174EA6;\n",
              "    }\n",
              "\n",
              "    .colab-df-buttons div {\n",
              "      margin-bottom: 4px;\n",
              "    }\n",
              "\n",
              "    [theme=dark] .colab-df-convert {\n",
              "      background-color: #3B4455;\n",
              "      fill: #D2E3FC;\n",
              "    }\n",
              "\n",
              "    [theme=dark] .colab-df-convert:hover {\n",
              "      background-color: #434B5C;\n",
              "      box-shadow: 0px 1px 3px 1px rgba(0, 0, 0, 0.15);\n",
              "      filter: drop-shadow(0px 1px 2px rgba(0, 0, 0, 0.3));\n",
              "      fill: #FFFFFF;\n",
              "    }\n",
              "  </style>\n",
              "\n",
              "    <script>\n",
              "      const buttonEl =\n",
              "        document.querySelector('#df-0ba08a3c-367c-4b5f-ac97-375e94d682e2 button.colab-df-convert');\n",
              "      buttonEl.style.display =\n",
              "        google.colab.kernel.accessAllowed ? 'block' : 'none';\n",
              "\n",
              "      async function convertToInteractive(key) {\n",
              "        const element = document.querySelector('#df-0ba08a3c-367c-4b5f-ac97-375e94d682e2');\n",
              "        const dataTable =\n",
              "          await google.colab.kernel.invokeFunction('convertToInteractive',\n",
              "                                                    [key], {});\n",
              "        if (!dataTable) return;\n",
              "\n",
              "        const docLinkHtml = 'Like what you see? Visit the ' +\n",
              "          '<a target=\"_blank\" href=https://colab.research.google.com/notebooks/data_table.ipynb>data table notebook</a>'\n",
              "          + ' to learn more about interactive tables.';\n",
              "        element.innerHTML = '';\n",
              "        dataTable['output_type'] = 'display_data';\n",
              "        await google.colab.output.renderOutput(dataTable, element);\n",
              "        const docLink = document.createElement('div');\n",
              "        docLink.innerHTML = docLinkHtml;\n",
              "        element.appendChild(docLink);\n",
              "      }\n",
              "    </script>\n",
              "  </div>\n",
              "\n",
              "\n",
              "    <div id=\"df-2b619707-fd70-4702-adf4-5243201859de\">\n",
              "      <button class=\"colab-df-quickchart\" onclick=\"quickchart('df-2b619707-fd70-4702-adf4-5243201859de')\"\n",
              "                title=\"Suggest charts\"\n",
              "                style=\"display:none;\">\n",
              "\n",
              "<svg xmlns=\"http://www.w3.org/2000/svg\" height=\"24px\"viewBox=\"0 0 24 24\"\n",
              "     width=\"24px\">\n",
              "    <g>\n",
              "        <path d=\"M19 3H5c-1.1 0-2 .9-2 2v14c0 1.1.9 2 2 2h14c1.1 0 2-.9 2-2V5c0-1.1-.9-2-2-2zM9 17H7v-7h2v7zm4 0h-2V7h2v10zm4 0h-2v-4h2v4z\"/>\n",
              "    </g>\n",
              "</svg>\n",
              "      </button>\n",
              "\n",
              "<style>\n",
              "  .colab-df-quickchart {\n",
              "      --bg-color: #E8F0FE;\n",
              "      --fill-color: #1967D2;\n",
              "      --hover-bg-color: #E2EBFA;\n",
              "      --hover-fill-color: #174EA6;\n",
              "      --disabled-fill-color: #AAA;\n",
              "      --disabled-bg-color: #DDD;\n",
              "  }\n",
              "\n",
              "  [theme=dark] .colab-df-quickchart {\n",
              "      --bg-color: #3B4455;\n",
              "      --fill-color: #D2E3FC;\n",
              "      --hover-bg-color: #434B5C;\n",
              "      --hover-fill-color: #FFFFFF;\n",
              "      --disabled-bg-color: #3B4455;\n",
              "      --disabled-fill-color: #666;\n",
              "  }\n",
              "\n",
              "  .colab-df-quickchart {\n",
              "    background-color: var(--bg-color);\n",
              "    border: none;\n",
              "    border-radius: 50%;\n",
              "    cursor: pointer;\n",
              "    display: none;\n",
              "    fill: var(--fill-color);\n",
              "    height: 32px;\n",
              "    padding: 0;\n",
              "    width: 32px;\n",
              "  }\n",
              "\n",
              "  .colab-df-quickchart:hover {\n",
              "    background-color: var(--hover-bg-color);\n",
              "    box-shadow: 0 1px 2px rgba(60, 64, 67, 0.3), 0 1px 3px 1px rgba(60, 64, 67, 0.15);\n",
              "    fill: var(--button-hover-fill-color);\n",
              "  }\n",
              "\n",
              "  .colab-df-quickchart-complete:disabled,\n",
              "  .colab-df-quickchart-complete:disabled:hover {\n",
              "    background-color: var(--disabled-bg-color);\n",
              "    fill: var(--disabled-fill-color);\n",
              "    box-shadow: none;\n",
              "  }\n",
              "\n",
              "  .colab-df-spinner {\n",
              "    border: 2px solid var(--fill-color);\n",
              "    border-color: transparent;\n",
              "    border-bottom-color: var(--fill-color);\n",
              "    animation:\n",
              "      spin 1s steps(1) infinite;\n",
              "  }\n",
              "\n",
              "  @keyframes spin {\n",
              "    0% {\n",
              "      border-color: transparent;\n",
              "      border-bottom-color: var(--fill-color);\n",
              "      border-left-color: var(--fill-color);\n",
              "    }\n",
              "    20% {\n",
              "      border-color: transparent;\n",
              "      border-left-color: var(--fill-color);\n",
              "      border-top-color: var(--fill-color);\n",
              "    }\n",
              "    30% {\n",
              "      border-color: transparent;\n",
              "      border-left-color: var(--fill-color);\n",
              "      border-top-color: var(--fill-color);\n",
              "      border-right-color: var(--fill-color);\n",
              "    }\n",
              "    40% {\n",
              "      border-color: transparent;\n",
              "      border-right-color: var(--fill-color);\n",
              "      border-top-color: var(--fill-color);\n",
              "    }\n",
              "    60% {\n",
              "      border-color: transparent;\n",
              "      border-right-color: var(--fill-color);\n",
              "    }\n",
              "    80% {\n",
              "      border-color: transparent;\n",
              "      border-right-color: var(--fill-color);\n",
              "      border-bottom-color: var(--fill-color);\n",
              "    }\n",
              "    90% {\n",
              "      border-color: transparent;\n",
              "      border-bottom-color: var(--fill-color);\n",
              "    }\n",
              "  }\n",
              "</style>\n",
              "\n",
              "      <script>\n",
              "        async function quickchart(key) {\n",
              "          const quickchartButtonEl =\n",
              "            document.querySelector('#' + key + ' button');\n",
              "          quickchartButtonEl.disabled = true;  // To prevent multiple clicks.\n",
              "          quickchartButtonEl.classList.add('colab-df-spinner');\n",
              "          try {\n",
              "            const charts = await google.colab.kernel.invokeFunction(\n",
              "                'suggestCharts', [key], {});\n",
              "          } catch (error) {\n",
              "            console.error('Error during call to suggestCharts:', error);\n",
              "          }\n",
              "          quickchartButtonEl.classList.remove('colab-df-spinner');\n",
              "          quickchartButtonEl.classList.add('colab-df-quickchart-complete');\n",
              "        }\n",
              "        (() => {\n",
              "          let quickchartButtonEl =\n",
              "            document.querySelector('#df-2b619707-fd70-4702-adf4-5243201859de button');\n",
              "          quickchartButtonEl.style.display =\n",
              "            google.colab.kernel.accessAllowed ? 'block' : 'none';\n",
              "        })();\n",
              "      </script>\n",
              "    </div>\n",
              "\n",
              "    </div>\n",
              "  </div>\n"
            ],
            "text/plain": [
              "                   Time           UserName  \\\n",
              "0  2025-05-15T15:04:49Z  @fajarhamdani1134   \n",
              "1  2025-05-13T21:18:46Z    @SuponoPono-n5g   \n",
              "2  2025-05-13T21:18:23Z    @SuponoPono-n5g   \n",
              "3  2025-05-13T21:12:52Z    @SuponoPono-n5g   \n",
              "4  2025-05-13T21:11:00Z    @SuponoPono-n5g   \n",
              "\n",
              "                                             Comment  LikeCount  \n",
              "0                                    Sangat betul...          0  \n",
              "1  Ternak MULYONO manaaa ngertiiii......biangnya ...          0  \n",
              "2  Ternak MULYONO manaaa ngertiiii......biangnya ...          0  \n",
              "3  Ternak MULYONO manaaa ngertiiii......biangnya ...          0  \n",
              "4  Ternak MULYONO manaaa ngertiiii......biangnya ...          0  "
            ]
          },
          "execution_count": 5,
          "metadata": {},
          "output_type": "execute_result"
        }
      ],
      "source": [
        "df = pd.read_csv(\"/content/youtube-comments.csv\")\n",
        "df.columns = [\"Time\", \"UserName\", \"Comment\", \"LikeCount\"]\n",
        "df.head()"
      ]
    },
    {
      "cell_type": "markdown",
      "metadata": {
        "id": "HzBYiTWY-4sp"
      },
      "source": [
        "#**DATA DESCRIPTION**"
      ]
    },
    {
      "cell_type": "code",
      "execution_count": null,
      "metadata": {
        "colab": {
          "base_uri": "https://localhost:8080/"
        },
        "id": "95zldJDN-4LO",
        "outputId": "455e2c07-565a-4933-9ede-cb913c2e4abf"
      },
      "outputs": [
        {
          "name": "stdout",
          "output_type": "stream",
          "text": [
            "Ukuran dataset: (19686, 4)\n"
          ]
        }
      ],
      "source": [
        "print(\"Ukuran dataset:\", df.shape)"
      ]
    },
    {
      "cell_type": "code",
      "execution_count": null,
      "metadata": {
        "colab": {
          "base_uri": "https://localhost:8080/"
        },
        "id": "x4UeIb6g_FP-",
        "outputId": "334ec1d7-3f6e-4c62-d262-a43e1ea0d3ed"
      },
      "outputs": [
        {
          "name": "stdout",
          "output_type": "stream",
          "text": [
            "\n",
            "Info kolom:\n",
            "<class 'pandas.core.frame.DataFrame'>\n",
            "RangeIndex: 19686 entries, 0 to 19685\n",
            "Data columns (total 4 columns):\n",
            " #   Column     Non-Null Count  Dtype \n",
            "---  ------     --------------  ----- \n",
            " 0   Time       19686 non-null  object\n",
            " 1   UserName   19684 non-null  object\n",
            " 2   Comment    19686 non-null  object\n",
            " 3   LikeCount  19686 non-null  int64 \n",
            "dtypes: int64(1), object(3)\n",
            "memory usage: 615.3+ KB\n"
          ]
        }
      ],
      "source": [
        "print(\"\\nInfo kolom:\")\n",
        "df.info()"
      ]
    },
    {
      "cell_type": "code",
      "execution_count": null,
      "metadata": {
        "colab": {
          "base_uri": "https://localhost:8080/"
        },
        "id": "5LnvXLFD_Ivy",
        "outputId": "f9cb4ba5-cf44-47e9-e6b8-981282e5c437"
      },
      "outputs": [
        {
          "name": "stdout",
          "output_type": "stream",
          "text": [
            "          LikeCount\n",
            "count  19686.000000\n",
            "mean       3.239155\n",
            "std      106.122095\n",
            "min        0.000000\n",
            "25%        0.000000\n",
            "50%        0.000000\n",
            "75%        0.000000\n",
            "max    10225.000000\n"
          ]
        }
      ],
      "source": [
        "df.describe()\n",
        "print(df.describe())"
      ]
    },
    {
      "cell_type": "code",
      "execution_count": null,
      "metadata": {
        "colab": {
          "base_uri": "https://localhost:8080/"
        },
        "id": "wcmpPV_rHwzw",
        "outputId": "73c6f650-8df2-4907-94f7-b1505fa4715e"
      },
      "outputs": [
        {
          "name": "stdout",
          "output_type": "stream",
          "text": [
            "\n",
            "Cek Nilai Kosong:\n",
            "Time         0\n",
            "UserName     2\n",
            "Comment      0\n",
            "LikeCount    0\n",
            "dtype: int64\n"
          ]
        }
      ],
      "source": [
        "print(\"\\nCek Nilai Kosong:\")\n",
        "print(df.isnull().sum())"
      ]
    },
    {
      "cell_type": "code",
      "execution_count": null,
      "metadata": {
        "colab": {
          "base_uri": "https://localhost:8080/"
        },
        "id": "LNRJan2QHqm7",
        "outputId": "2686f695-a100-4b58-b6eb-a9984c6ef804"
      },
      "outputs": [
        {
          "name": "stdout",
          "output_type": "stream",
          "text": [
            "\n",
            "Jumlah komentar unik: 19297\n",
            "Jumlah komentar duplikat: 389\n"
          ]
        }
      ],
      "source": [
        "print(\"\\nJumlah komentar unik:\", df['Comment'].nunique())\n",
        "print(\"Jumlah komentar duplikat:\", df.duplicated('Comment').sum())"
      ]
    },
    {
      "cell_type": "markdown",
      "metadata": {
        "id": "CIV53a7rEHPo"
      },
      "source": [
        "#**CLEANING DATA**"
      ]
    },
    {
      "cell_type": "code",
      "execution_count": null,
      "metadata": {
        "colab": {
          "base_uri": "https://localhost:8080/"
        },
        "id": "MfMELxLb0Zo7",
        "outputId": "3b63aa77-8ee6-4454-bdf8-ed0f2efbd509"
      },
      "outputs": [
        {
          "name": "stdout",
          "output_type": "stream",
          "text": [
            "\n",
            "Setelah menghapus nilai kosong:\n",
            "Time         0\n",
            "UserName     0\n",
            "Comment      0\n",
            "LikeCount    0\n",
            "dtype: int64\n"
          ]
        }
      ],
      "source": [
        "df = df.dropna()\n",
        "print(\"\\nSetelah menghapus nilai kosong:\")\n",
        "print(df.isnull().sum())"
      ]
    },
    {
      "cell_type": "code",
      "execution_count": null,
      "metadata": {
        "colab": {
          "base_uri": "https://localhost:8080/",
          "height": 206
        },
        "id": "CgsG3JlAQQO4",
        "outputId": "ed240efa-0b16-4fed-cd5d-f90f3b9942e6"
      },
      "outputs": [
        {
          "data": {
            "application/vnd.google.colaboratory.intrinsic+json": {
              "summary": "{\n  \"name\": \"df\",\n  \"rows\": 19295,\n  \"fields\": [\n    {\n      \"column\": \"Time\",\n      \"properties\": {\n        \"dtype\": \"object\",\n        \"num_unique_values\": 18928,\n        \"samples\": [\n          \"2024-11-30T10:59:42Z\",\n          \"2024-10-27T19:06:52Z\",\n          \"2024-10-21T07:56:16Z\"\n        ],\n        \"semantic_type\": \"\",\n        \"description\": \"\"\n      }\n    },\n    {\n      \"column\": \"UserName\",\n      \"properties\": {\n        \"dtype\": \"string\",\n        \"num_unique_values\": 17816,\n        \"samples\": [\n          \"@Rina-yn9ic\",\n          \"@enangaris5652\",\n          \"@EkkoSandstrom\"\n        ],\n        \"semantic_type\": \"\",\n        \"description\": \"\"\n      }\n    },\n    {\n      \"column\": \"Comment\",\n      \"properties\": {\n        \"dtype\": \"string\",\n        \"num_unique_values\": 19295,\n        \"samples\": [\n          \"Kita akan makin miskin.. Dibuat oleh Aturan negara\",\n          \"WARISAN JOKOWI\",\n          \"Sadar tidak sadar selama 10th terakhir karakter masyarakat Indonesia di matikan. Bukan lagi masyarakat yg pejuang tapi masyarakat yg meminta\\u00b2. Bansos, PKH segala macam tidak membantu masyarakat melainkan membunuh karakternya. Kartu PKH banyak di gadai utk jaminan hutang di rentenir, kebutuhan pokok main mahal karena harus berebut dg negara. Pendidikan makin amburadul. Dan banyak lagi\"\n        ],\n        \"semantic_type\": \"\",\n        \"description\": \"\"\n      }\n    },\n    {\n      \"column\": \"LikeCount\",\n      \"properties\": {\n        \"dtype\": \"number\",\n        \"std\": 97,\n        \"min\": 0,\n        \"max\": 10225,\n        \"num_unique_values\": 136,\n        \"samples\": [\n          154,\n          180,\n          82\n        ],\n        \"semantic_type\": \"\",\n        \"description\": \"\"\n      }\n    }\n  ]\n}",
              "type": "dataframe",
              "variable_name": "df"
            },
            "text/html": [
              "\n",
              "  <div id=\"df-b8f29f9a-e88c-42e6-ad83-1e228ac415e1\" class=\"colab-df-container\">\n",
              "    <div>\n",
              "<style scoped>\n",
              "    .dataframe tbody tr th:only-of-type {\n",
              "        vertical-align: middle;\n",
              "    }\n",
              "\n",
              "    .dataframe tbody tr th {\n",
              "        vertical-align: top;\n",
              "    }\n",
              "\n",
              "    .dataframe thead th {\n",
              "        text-align: right;\n",
              "    }\n",
              "</style>\n",
              "<table border=\"1\" class=\"dataframe\">\n",
              "  <thead>\n",
              "    <tr style=\"text-align: right;\">\n",
              "      <th></th>\n",
              "      <th>Time</th>\n",
              "      <th>UserName</th>\n",
              "      <th>Comment</th>\n",
              "      <th>LikeCount</th>\n",
              "    </tr>\n",
              "  </thead>\n",
              "  <tbody>\n",
              "    <tr>\n",
              "      <th>0</th>\n",
              "      <td>2025-05-15T15:04:49Z</td>\n",
              "      <td>@fajarhamdani1134</td>\n",
              "      <td>Sangat betul...</td>\n",
              "      <td>0</td>\n",
              "    </tr>\n",
              "    <tr>\n",
              "      <th>1</th>\n",
              "      <td>2025-05-13T21:18:46Z</td>\n",
              "      <td>@SuponoPono-n5g</td>\n",
              "      <td>Ternak MULYONO manaaa ngertiiii......biangnya ...</td>\n",
              "      <td>0</td>\n",
              "    </tr>\n",
              "    <tr>\n",
              "      <th>5</th>\n",
              "      <td>2025-05-13T15:41:27Z</td>\n",
              "      <td>@BadariahAhmad-b7t</td>\n",
              "      <td>Kerja sawit di msia sudah middle upper class bro</td>\n",
              "      <td>0</td>\n",
              "    </tr>\n",
              "    <tr>\n",
              "      <th>6</th>\n",
              "      <td>2025-05-13T09:29:59Z</td>\n",
              "      <td>@mibaa7578</td>\n",
              "      <td>Seorang yg begitu bijak.. tahniah org muda.❤</td>\n",
              "      <td>0</td>\n",
              "    </tr>\n",
              "    <tr>\n",
              "      <th>7</th>\n",
              "      <td>2025-05-13T06:34:59Z</td>\n",
              "      <td>@RobiRahmathidayat01</td>\n",
              "      <td>Parah 😂</td>\n",
              "      <td>0</td>\n",
              "    </tr>\n",
              "  </tbody>\n",
              "</table>\n",
              "</div>\n",
              "    <div class=\"colab-df-buttons\">\n",
              "\n",
              "  <div class=\"colab-df-container\">\n",
              "    <button class=\"colab-df-convert\" onclick=\"convertToInteractive('df-b8f29f9a-e88c-42e6-ad83-1e228ac415e1')\"\n",
              "            title=\"Convert this dataframe to an interactive table.\"\n",
              "            style=\"display:none;\">\n",
              "\n",
              "  <svg xmlns=\"http://www.w3.org/2000/svg\" height=\"24px\" viewBox=\"0 -960 960 960\">\n",
              "    <path d=\"M120-120v-720h720v720H120Zm60-500h600v-160H180v160Zm220 220h160v-160H400v160Zm0 220h160v-160H400v160ZM180-400h160v-160H180v160Zm440 0h160v-160H620v160ZM180-180h160v-160H180v160Zm440 0h160v-160H620v160Z\"/>\n",
              "  </svg>\n",
              "    </button>\n",
              "\n",
              "  <style>\n",
              "    .colab-df-container {\n",
              "      display:flex;\n",
              "      gap: 12px;\n",
              "    }\n",
              "\n",
              "    .colab-df-convert {\n",
              "      background-color: #E8F0FE;\n",
              "      border: none;\n",
              "      border-radius: 50%;\n",
              "      cursor: pointer;\n",
              "      display: none;\n",
              "      fill: #1967D2;\n",
              "      height: 32px;\n",
              "      padding: 0 0 0 0;\n",
              "      width: 32px;\n",
              "    }\n",
              "\n",
              "    .colab-df-convert:hover {\n",
              "      background-color: #E2EBFA;\n",
              "      box-shadow: 0px 1px 2px rgba(60, 64, 67, 0.3), 0px 1px 3px 1px rgba(60, 64, 67, 0.15);\n",
              "      fill: #174EA6;\n",
              "    }\n",
              "\n",
              "    .colab-df-buttons div {\n",
              "      margin-bottom: 4px;\n",
              "    }\n",
              "\n",
              "    [theme=dark] .colab-df-convert {\n",
              "      background-color: #3B4455;\n",
              "      fill: #D2E3FC;\n",
              "    }\n",
              "\n",
              "    [theme=dark] .colab-df-convert:hover {\n",
              "      background-color: #434B5C;\n",
              "      box-shadow: 0px 1px 3px 1px rgba(0, 0, 0, 0.15);\n",
              "      filter: drop-shadow(0px 1px 2px rgba(0, 0, 0, 0.3));\n",
              "      fill: #FFFFFF;\n",
              "    }\n",
              "  </style>\n",
              "\n",
              "    <script>\n",
              "      const buttonEl =\n",
              "        document.querySelector('#df-b8f29f9a-e88c-42e6-ad83-1e228ac415e1 button.colab-df-convert');\n",
              "      buttonEl.style.display =\n",
              "        google.colab.kernel.accessAllowed ? 'block' : 'none';\n",
              "\n",
              "      async function convertToInteractive(key) {\n",
              "        const element = document.querySelector('#df-b8f29f9a-e88c-42e6-ad83-1e228ac415e1');\n",
              "        const dataTable =\n",
              "          await google.colab.kernel.invokeFunction('convertToInteractive',\n",
              "                                                    [key], {});\n",
              "        if (!dataTable) return;\n",
              "\n",
              "        const docLinkHtml = 'Like what you see? Visit the ' +\n",
              "          '<a target=\"_blank\" href=https://colab.research.google.com/notebooks/data_table.ipynb>data table notebook</a>'\n",
              "          + ' to learn more about interactive tables.';\n",
              "        element.innerHTML = '';\n",
              "        dataTable['output_type'] = 'display_data';\n",
              "        await google.colab.output.renderOutput(dataTable, element);\n",
              "        const docLink = document.createElement('div');\n",
              "        docLink.innerHTML = docLinkHtml;\n",
              "        element.appendChild(docLink);\n",
              "      }\n",
              "    </script>\n",
              "  </div>\n",
              "\n",
              "\n",
              "    <div id=\"df-e35438d4-6553-48e9-ae7c-477b32fa93b7\">\n",
              "      <button class=\"colab-df-quickchart\" onclick=\"quickchart('df-e35438d4-6553-48e9-ae7c-477b32fa93b7')\"\n",
              "                title=\"Suggest charts\"\n",
              "                style=\"display:none;\">\n",
              "\n",
              "<svg xmlns=\"http://www.w3.org/2000/svg\" height=\"24px\"viewBox=\"0 0 24 24\"\n",
              "     width=\"24px\">\n",
              "    <g>\n",
              "        <path d=\"M19 3H5c-1.1 0-2 .9-2 2v14c0 1.1.9 2 2 2h14c1.1 0 2-.9 2-2V5c0-1.1-.9-2-2-2zM9 17H7v-7h2v7zm4 0h-2V7h2v10zm4 0h-2v-4h2v4z\"/>\n",
              "    </g>\n",
              "</svg>\n",
              "      </button>\n",
              "\n",
              "<style>\n",
              "  .colab-df-quickchart {\n",
              "      --bg-color: #E8F0FE;\n",
              "      --fill-color: #1967D2;\n",
              "      --hover-bg-color: #E2EBFA;\n",
              "      --hover-fill-color: #174EA6;\n",
              "      --disabled-fill-color: #AAA;\n",
              "      --disabled-bg-color: #DDD;\n",
              "  }\n",
              "\n",
              "  [theme=dark] .colab-df-quickchart {\n",
              "      --bg-color: #3B4455;\n",
              "      --fill-color: #D2E3FC;\n",
              "      --hover-bg-color: #434B5C;\n",
              "      --hover-fill-color: #FFFFFF;\n",
              "      --disabled-bg-color: #3B4455;\n",
              "      --disabled-fill-color: #666;\n",
              "  }\n",
              "\n",
              "  .colab-df-quickchart {\n",
              "    background-color: var(--bg-color);\n",
              "    border: none;\n",
              "    border-radius: 50%;\n",
              "    cursor: pointer;\n",
              "    display: none;\n",
              "    fill: var(--fill-color);\n",
              "    height: 32px;\n",
              "    padding: 0;\n",
              "    width: 32px;\n",
              "  }\n",
              "\n",
              "  .colab-df-quickchart:hover {\n",
              "    background-color: var(--hover-bg-color);\n",
              "    box-shadow: 0 1px 2px rgba(60, 64, 67, 0.3), 0 1px 3px 1px rgba(60, 64, 67, 0.15);\n",
              "    fill: var(--button-hover-fill-color);\n",
              "  }\n",
              "\n",
              "  .colab-df-quickchart-complete:disabled,\n",
              "  .colab-df-quickchart-complete:disabled:hover {\n",
              "    background-color: var(--disabled-bg-color);\n",
              "    fill: var(--disabled-fill-color);\n",
              "    box-shadow: none;\n",
              "  }\n",
              "\n",
              "  .colab-df-spinner {\n",
              "    border: 2px solid var(--fill-color);\n",
              "    border-color: transparent;\n",
              "    border-bottom-color: var(--fill-color);\n",
              "    animation:\n",
              "      spin 1s steps(1) infinite;\n",
              "  }\n",
              "\n",
              "  @keyframes spin {\n",
              "    0% {\n",
              "      border-color: transparent;\n",
              "      border-bottom-color: var(--fill-color);\n",
              "      border-left-color: var(--fill-color);\n",
              "    }\n",
              "    20% {\n",
              "      border-color: transparent;\n",
              "      border-left-color: var(--fill-color);\n",
              "      border-top-color: var(--fill-color);\n",
              "    }\n",
              "    30% {\n",
              "      border-color: transparent;\n",
              "      border-left-color: var(--fill-color);\n",
              "      border-top-color: var(--fill-color);\n",
              "      border-right-color: var(--fill-color);\n",
              "    }\n",
              "    40% {\n",
              "      border-color: transparent;\n",
              "      border-right-color: var(--fill-color);\n",
              "      border-top-color: var(--fill-color);\n",
              "    }\n",
              "    60% {\n",
              "      border-color: transparent;\n",
              "      border-right-color: var(--fill-color);\n",
              "    }\n",
              "    80% {\n",
              "      border-color: transparent;\n",
              "      border-right-color: var(--fill-color);\n",
              "      border-bottom-color: var(--fill-color);\n",
              "    }\n",
              "    90% {\n",
              "      border-color: transparent;\n",
              "      border-bottom-color: var(--fill-color);\n",
              "    }\n",
              "  }\n",
              "</style>\n",
              "\n",
              "      <script>\n",
              "        async function quickchart(key) {\n",
              "          const quickchartButtonEl =\n",
              "            document.querySelector('#' + key + ' button');\n",
              "          quickchartButtonEl.disabled = true;  // To prevent multiple clicks.\n",
              "          quickchartButtonEl.classList.add('colab-df-spinner');\n",
              "          try {\n",
              "            const charts = await google.colab.kernel.invokeFunction(\n",
              "                'suggestCharts', [key], {});\n",
              "          } catch (error) {\n",
              "            console.error('Error during call to suggestCharts:', error);\n",
              "          }\n",
              "          quickchartButtonEl.classList.remove('colab-df-spinner');\n",
              "          quickchartButtonEl.classList.add('colab-df-quickchart-complete');\n",
              "        }\n",
              "        (() => {\n",
              "          let quickchartButtonEl =\n",
              "            document.querySelector('#df-e35438d4-6553-48e9-ae7c-477b32fa93b7 button');\n",
              "          quickchartButtonEl.style.display =\n",
              "            google.colab.kernel.accessAllowed ? 'block' : 'none';\n",
              "        })();\n",
              "      </script>\n",
              "    </div>\n",
              "\n",
              "    </div>\n",
              "  </div>\n"
            ],
            "text/plain": [
              "                   Time              UserName  \\\n",
              "0  2025-05-15T15:04:49Z     @fajarhamdani1134   \n",
              "1  2025-05-13T21:18:46Z       @SuponoPono-n5g   \n",
              "5  2025-05-13T15:41:27Z    @BadariahAhmad-b7t   \n",
              "6  2025-05-13T09:29:59Z            @mibaa7578   \n",
              "7  2025-05-13T06:34:59Z  @RobiRahmathidayat01   \n",
              "\n",
              "                                             Comment  LikeCount  \n",
              "0                                    Sangat betul...          0  \n",
              "1  Ternak MULYONO manaaa ngertiiii......biangnya ...          0  \n",
              "5   Kerja sawit di msia sudah middle upper class bro          0  \n",
              "6       Seorang yg begitu bijak.. tahniah org muda.❤          0  \n",
              "7                                            Parah 😂          0  "
            ]
          },
          "execution_count": 12,
          "metadata": {},
          "output_type": "execute_result"
        }
      ],
      "source": [
        "df = df.drop_duplicates(subset=\"Comment\", keep=\"first\")\n",
        "df.head()"
      ]
    },
    {
      "cell_type": "code",
      "execution_count": null,
      "metadata": {
        "colab": {
          "base_uri": "https://localhost:8080/"
        },
        "id": "soocmEa4S5zi",
        "outputId": "8ed100e4-a82d-45b5-e128-2e674dda7798"
      },
      "outputs": [
        {
          "name": "stdout",
          "output_type": "stream",
          "text": [
            "\n",
            "Kamus normalisasi slang berhasil dimuat.\n"
          ]
        }
      ],
      "source": [
        "with open('/content/combined_slang_words.txt') as f:\n",
        "    data_slang = f.read()\n",
        "formal_indo = json.loads(data_slang)\n",
        "print(\"\\nKamus normalisasi slang berhasil dimuat.\")"
      ]
    },
    {
      "cell_type": "code",
      "execution_count": null,
      "metadata": {
        "id": "KzG2XXNeRFlP"
      },
      "outputs": [],
      "source": [
        "def informal_to_formal_indo(text):\n",
        "    if not formal_indo:\n",
        "        return text\n",
        "    res = \" \".join(formal_indo.get(ele, ele) for ele in text.split())\n",
        "    return(res)\n",
        "\n",
        "# ADAPTASI: Menginisialisasi tokenizer, stopword, dan lemmatizer dari nlp_id\n",
        "tokenizer_id = Tokenizer()\n",
        "stopword_id = StopWord()\n",
        "lemmatizer_id = Lemmatizer()"
      ]
    },
    {
      "cell_type": "code",
      "execution_count": null,
      "metadata": {
        "id": "Nhw57wilEP9y"
      },
      "outputs": [],
      "source": [
        "def my_full_text_preprocessor(doc):\n",
        "    # Membersihkan karakter khusus seperti di kode Anda\n",
        "    doc = re.sub(r'@[A-Za-z0-9]+', '', doc) # Menghapus mention\n",
        "    doc = re.sub(r'#[A-Za-z0-9]+', '', doc) # Menghapus hashtag\n",
        "    doc = re.sub(r'RT[\\s]', '', doc) # Menghapus RT\n",
        "    doc = re.sub(r\"http\\S+\", '', doc) # Menghapus URL\n",
        "    doc = re.sub(r'[0-9]+', '', doc) # Menghapus angka\n",
        "    doc = re.sub(r'(.)\\1+',r'\\1\\1', doc) # Mengurangi pengulangan karakter (contoh: \"halooolo\" -> \"halolo\")\n",
        "    doc = re.sub(r'[\\?\\.\\!]+(?=[\\?.\\!])', '',doc) # Mengurangi pengulangan tanda baca (contoh: \"????\" -> \"??\")\n",
        "    doc = re.sub(r'[^a-zA-Z]',' ', doc) # Hanya menyisakan huruf alfabet dan spasi\n",
        "    doc = re.sub(r'\\b(\\w+)( \\1\\b)+', r'\\1', doc) # Menghapus pengulangan kata (contoh: \"baik baik\" -> \"baik\")\n",
        "    doc = doc.replace('\\n', ' ') # Mengganti newline dengan spasi\n",
        "    doc = doc.translate(str.maketrans('', '', string.punctuation)) # Menghapus tanda baca\n",
        "    doc = doc.strip(' ') # Menghapus spasi di awal/akhir\n",
        "\n",
        "    # Mengubah menjadi huruf kecil\n",
        "    doc = doc.lower()\n",
        "\n",
        "    # Text Normalization (kata slang)\n",
        "    doc = informal_to_formal_indo(doc)\n",
        "\n",
        "    # Punctuation Removal + Menghapus Angka (redundant setelah re.sub dan translate di atas, tapi biarkan untuk keamanan)\n",
        "    doc = doc.translate(str.maketrans('', '', string.punctuation + string.digits))\n",
        "\n",
        "    # Whitespace Removal\n",
        "    doc = doc.strip()\n",
        "\n",
        "    # Tokenization\n",
        "    doc_tokens = tokenizer_id.tokenize(doc)\n",
        "\n",
        "    # Stopwords Removal\n",
        "    doc_tokens_no_stopwords = [word for word in doc_tokens if word not in stopword_id.get_stopword()]\n",
        "\n",
        "    # Lemmatization\n",
        "    doc_tokens_lemmatized = [lemmatizer_id.lemmatize(word) for word in doc_tokens_no_stopwords]\n",
        "\n",
        "    return doc_tokens_lemmatized"
      ]
    },
    {
      "cell_type": "code",
      "execution_count": null,
      "metadata": {
        "id": "HO0578izRTXv"
      },
      "outputs": [],
      "source": [
        "def stemming_list_of_words(list_of_words):\n",
        "  factory = StemmerFactory()\n",
        "  stemmer = factory.create_stemmer()\n",
        "  stemmed_words = []\n",
        "  for word in list_of_words:\n",
        "    dt = stemmer.stem(word)\n",
        "    stemmed_words.append(dt)\n",
        "  d_clean = \" \".join(stemmed_words) # Bergabung kembali menjadi string\n",
        "  return d_clean"
      ]
    },
    {
      "cell_type": "code",
      "execution_count": null,
      "metadata": {
        "colab": {
          "base_uri": "https://localhost:8080/"
        },
        "id": "uUYkNBmfRYCj",
        "outputId": "a0167c2c-0d18-4e04-d822-12667a5cb39e"
      },
      "outputs": [
        {
          "name": "stdout",
          "output_type": "stream",
          "text": [
            "\n",
            "Kolom 'Comment' setelah pre-processing (tokenized):\n",
            "                                             Comment  \\\n",
            "0                                    Sangat betul...   \n",
            "1  Ternak MULYONO manaaa ngertiiii......biangnya ...   \n",
            "5   Kerja sawit di msia sudah middle upper class bro   \n",
            "6       Seorang yg begitu bijak.. tahniah org muda.❤   \n",
            "7                                            Parah 😂   \n",
            "\n",
            "                                       preprocessing  \n",
            "0                                                 []  \n",
            "1  [ternak, mulyono, manaa, ngertii, biang, gak, ...  \n",
            "5  [kerja, sawit, msia, middle, upper, class, sau...  \n",
            "6                        [bijak, tahniah, org, muda]  \n",
            "7                                            [parah]  \n",
            "\n",
            "Kolom 'preprocessing' setelah stemming:\n",
            "                                       preprocessing  \\\n",
            "0                                                 []   \n",
            "1  [ternak, mulyono, manaa, ngertii, biang, gak, ...   \n",
            "5  [kerja, sawit, msia, middle, upper, class, sau...   \n",
            "6                        [bijak, tahniah, org, muda]   \n",
            "7                                            [parah]   \n",
            "\n",
            "                                     stemming_ulasan  \n",
            "0                                                     \n",
            "1  ternak mulyono manaa ngertii biang gak jelaass...  \n",
            "5  kerja sawit msia middle upper class saudara la...  \n",
            "6                             bijak tahniah org muda  \n",
            "7                                              parah  \n"
          ]
        }
      ],
      "source": [
        "df['preprocessing'] = df['Comment'].apply(my_full_text_preprocessor)\n",
        "print(\"\\nKolom 'Comment' setelah pre-processing (tokenized):\")\n",
        "print(df[['Comment', 'preprocessing']].head())\n",
        "\n",
        "df['stemming_ulasan'] = df['preprocessing'].apply(stemming_list_of_words)\n",
        "print(\"\\nKolom 'preprocessing' setelah stemming:\")\n",
        "print(df[['preprocessing', 'stemming_ulasan']].head())"
      ]
    },
    {
      "cell_type": "markdown",
      "metadata": {
        "id": "KXcp0List_cp"
      },
      "source": [
        "###Sample Code"
      ]
    },
    {
      "cell_type": "code",
      "execution_count": null,
      "metadata": {
        "colab": {
          "base_uri": "https://localhost:8080/"
        },
        "id": "glMktKSTbWVR",
        "outputId": "c7b5e588-4d70-414c-8692-f8dafd036452"
      },
      "outputs": [
        {
          "name": "stdout",
          "output_type": "stream",
          "text": [
            "File CSV berhasil disimpan.\n"
          ]
        }
      ],
      "source": [
        "df.to_csv('Youtube-Sentimen.csv', index=False)\n",
        "\n",
        "print(\"File CSV berhasil disimpan.\")"
      ]
    },
    {
      "cell_type": "markdown",
      "metadata": {
        "id": "sNmERemPDMya"
      },
      "source": [
        "#**LABELING**"
      ]
    },
    {
      "cell_type": "code",
      "execution_count": null,
      "metadata": {
        "id": "oIjdyWpSB6kI"
      },
      "outputs": [],
      "source": [
        "def loadLexicon(file_path):\n",
        "    with open(file_path, \"r\", encoding=\"utf-8\", errors='replace') as f:\n",
        "        data = f.readlines()\n",
        "    return [d.strip().lower() for d in data]"
      ]
    },
    {
      "cell_type": "code",
      "execution_count": null,
      "metadata": {
        "colab": {
          "base_uri": "https://localhost:8080/"
        },
        "id": "xevo36TBTIov",
        "outputId": "4925450a-6ce0-46fd-a146-53e121f8bc7e"
      },
      "outputs": [
        {
          "name": "stdout",
          "output_type": "stream",
          "text": [
            "\n",
            "Kamus leksikon bahasa Indonesia berhasil dimuat.\n"
          ]
        }
      ],
      "source": [
        "positif_words = loadLexicon(\"//content/positive_keyword.txt\")\n",
        "negatif_words = loadLexicon(\"//content/negative_keyword.txt\")\n",
        "negasi_words = loadLexicon(\"/content/negation.txt\")\n",
        "print(\"\\nKamus leksikon bahasa Indonesia berhasil dimuat.\")"
      ]
    },
    {
      "cell_type": "code",
      "execution_count": null,
      "metadata": {
        "id": "NOZpXnKxTZfm"
      },
      "outputs": [],
      "source": [
        "def prediksiSentiment_lexicon(kalimat_str, positif_list, negatif_list, negasi_list):\n",
        "    posWords = []\n",
        "    negWords = []\n",
        "\n",
        "    # Tokenisasi kalimat untuk pencarian kata. Asumsi input sudah distemming dan dijoin jadi string.\n",
        "    words_in_sentence = kalimat_str.split()\n",
        "\n",
        "    for i, word in enumerate(words_in_sentence):\n",
        "        is_negated = False\n",
        "        if i > 0 and words_in_sentence[i-1] in negasi_list:\n",
        "            is_negated = True\n",
        "\n",
        "        if word in positif_list:\n",
        "            if is_negated:\n",
        "                negWords.append(word) # Kata positif yang dinegasi dianggap negatif\n",
        "            else:\n",
        "                posWords.append(word)\n",
        "        elif word in negatif_list:\n",
        "            if not is_negated: # Kata negatif yang tidak dinegasi tetap negatif\n",
        "                negWords.append(word)\n",
        "            # Jika kata negatif dinegasi (\"tidak buruk\"), bisa jadi netral atau positif.\n",
        "            # Untuk sederhana, kita biarkan tidak masuk ke negWords, cenderung netral.\n",
        "\n",
        "    nPos, nNeg = len(posWords), len(negWords)\n",
        "\n",
        "    if nPos > nNeg:\n",
        "        return 'positif'\n",
        "    elif nPos < nNeg:\n",
        "        return 'negatif'\n",
        "    else:\n",
        "        return 'netral'"
      ]
    },
    {
      "cell_type": "code",
      "execution_count": null,
      "metadata": {
        "colab": {
          "base_uri": "https://localhost:8080/"
        },
        "id": "-R39AZU_TNRr",
        "outputId": "a67c99f7-3d17-434f-9f18-4603e4258434"
      },
      "outputs": [
        {
          "name": "stdout",
          "output_type": "stream",
          "text": [
            "\n",
            "Dataset setelah pelabelan sentimen dengan leksikon:\n",
            "                                             Comment  \\\n",
            "0                                    Sangat betul...   \n",
            "1  Ternak MULYONO manaaa ngertiiii......biangnya ...   \n",
            "5   Kerja sawit di msia sudah middle upper class bro   \n",
            "6       Seorang yg begitu bijak.. tahniah org muda.❤   \n",
            "7                                            Parah 😂   \n",
            "\n",
            "                                     stemming_ulasan    label  \n",
            "0                                                      netral  \n",
            "1  ternak mulyono manaa ngertii biang gak jelaass...   netral  \n",
            "5  kerja sawit msia middle upper class saudara la...  positif  \n",
            "6                             bijak tahniah org muda  positif  \n",
            "7                                              parah  negatif  \n"
          ]
        }
      ],
      "source": [
        "df['label'] = df['stemming_ulasan'].apply(lambda x: prediksiSentiment_lexicon(x, positif_words, negatif_words, negasi_words))\n",
        "\n",
        "print(\"\\nDataset setelah pelabelan sentimen dengan leksikon:\")\n",
        "print(df[['Comment', 'stemming_ulasan', 'label']].head())"
      ]
    },
    {
      "cell_type": "code",
      "execution_count": null,
      "metadata": {
        "colab": {
          "base_uri": "https://localhost:8080/",
          "height": 550
        },
        "id": "hXeBV9BHB1yf",
        "outputId": "f7a96357-0a24-4711-b50b-6b390e8790be"
      },
      "outputs": [
        {
          "name": "stdout",
          "output_type": "stream",
          "text": [
            "\n",
            "Distribusi Sentimen setelah pelabelan:\n",
            "label\n",
            "netral     7102\n",
            "positif    6431\n",
            "negatif    5762\n",
            "Name: count, dtype: int64\n"
          ]
        },
        {
          "data": {
            "image/png": "[encoded data removed]",
            "text/plain": [
              "<Figure size 640x480 with 1 Axes>"
            ]
          },
          "metadata": {},
          "output_type": "display_data"
        }
      ],
      "source": [
        "print(\"\\nDistribusi Sentimen setelah pelabelan:\")\n",
        "print(df['label'].value_counts())\n",
        "df['label'].value_counts().plot.pie(autopct='%.2f')\n",
        "plt.title(\"Distribusi Sentimen Komentar YouTube (Lexicon-Based)\")\n",
        "plt.show()"
      ]
    },
    {
      "cell_type": "code",
      "execution_count": null,
      "metadata": {
        "colab": {
          "base_uri": "https://localhost:8080/"
        },
        "id": "6es4FT5nTUDs",
        "outputId": "674e14fc-f47a-4fd7-b475-9208e724a725"
      },
      "outputs": [
        {
          "name": "stdout",
          "output_type": "stream",
          "text": [
            "\n",
            "Dataset setelah mengubah label menjadi numerik:\n",
            "                   Time              UserName  \\\n",
            "0  2025-05-15T15:04:49Z     @fajarhamdani1134   \n",
            "1  2025-05-13T21:18:46Z       @SuponoPono-n5g   \n",
            "5  2025-05-13T15:41:27Z    @BadariahAhmad-b7t   \n",
            "6  2025-05-13T09:29:59Z            @mibaa7578   \n",
            "7  2025-05-13T06:34:59Z  @RobiRahmathidayat01   \n",
            "\n",
            "                                             Comment  LikeCount  \\\n",
            "0                                    Sangat betul...          0   \n",
            "1  Ternak MULYONO manaaa ngertiiii......biangnya ...          0   \n",
            "5   Kerja sawit di msia sudah middle upper class bro          0   \n",
            "6       Seorang yg begitu bijak.. tahniah org muda.❤          0   \n",
            "7                                            Parah 😂          0   \n",
            "\n",
            "                                       preprocessing  \\\n",
            "0                                                 []   \n",
            "1  [ternak, mulyono, manaa, ngertii, biang, gak, ...   \n",
            "5  [kerja, sawit, msia, middle, upper, class, sau...   \n",
            "6                        [bijak, tahniah, org, muda]   \n",
            "7                                            [parah]   \n",
            "\n",
            "                                     stemming_ulasan  label  \n",
            "0                                                         2  \n",
            "1  ternak mulyono manaa ngertii biang gak jelaass...      2  \n",
            "5  kerja sawit msia middle upper class saudara la...      1  \n",
            "6                             bijak tahniah org muda      1  \n",
            "7                                              parah      0  \n"
          ]
        }
      ],
      "source": [
        "df.replace(to_replace='negatif', value=0, inplace=True)\n",
        "df.replace(to_replace='positif', value=1, inplace=True)\n",
        "df.replace(to_replace='netral', value=2, inplace=True)\n",
        "print(\"\\nDataset setelah mengubah label menjadi numerik:\")\n",
        "print(df.head())\n",
        "\n",
        "df['label'] = df['label'].astype(int)"
      ]
    },
    {
      "cell_type": "code",
      "execution_count": null,
      "metadata": {
        "colab": {
          "base_uri": "https://localhost:8080/"
        },
        "id": "xHiMjyefM62A",
        "outputId": "5a223af6-724f-4d7e-deaf-f47c00424d3b"
      },
      "outputs": [
        {
          "name": "stdout",
          "output_type": "stream",
          "text": [
            "File CSV berhasil disimpan.\n"
          ]
        }
      ],
      "source": [
        "df.to_csv('Youtube-Sentimen.csv', index=False)\n",
        "\n",
        "print(\"File CSV berhasil disimpan.\")"
      ]
    },
    {
      "cell_type": "code",
      "execution_count": 4,
      "metadata": {
        "id": "W7xKPwVGPabs"
      },
      "outputs": [],
      "source": [
        "df = pd.read_csv(\"//content/Youtube-Sentimen.csv\")"
      ]
    },
    {
      "cell_type": "markdown",
      "metadata": {
        "id": "F9aQlCmMIKtG"
      },
      "source": [
        "#**DATA EXPLORATION**\n",
        "Dibawah ini adalah beberapa contoh data yang bisa digunakan contohnya yaitu seperti panjang suatu komentar, jumlah komentar per hari, dan beberapa perbandingan yang bisa digunakan."
      ]
    },
    {
      "cell_type": "code",
      "execution_count": 1,
      "metadata": {
        "colab": {
          "base_uri": "https://localhost:8080/",
          "height": 211
        },
        "id": "e97YYaLxEV7E",
        "outputId": "b776c344-3e92-4180-8283-beb2f0b3acc4"
      },
      "outputs": [
        {
          "ename": "NameError",
          "evalue": "name 'plt' is not defined",
          "output_type": "error",
          "traceback": [
            "\u001b[0;31m---------------------------------------------------------------------------\u001b[0m",
            "\u001b[0;31mNameError\u001b[0m                                 Traceback (most recent call last)",
            "\u001b[0;32m<ipython-input-1-595856854>\u001b[0m in \u001b[0;36m<cell line: 0>\u001b[0;34m()\u001b[0m\n\u001b[0;32m----> 1\u001b[0;31m \u001b[0mplt\u001b[0m\u001b[0;34m.\u001b[0m\u001b[0mfigure\u001b[0m\u001b[0;34m(\u001b[0m\u001b[0mfigsize\u001b[0m\u001b[0;34m=\u001b[0m\u001b[0;34m(\u001b[0m\u001b[0;36m6\u001b[0m\u001b[0;34m,\u001b[0m\u001b[0;36m4\u001b[0m\u001b[0;34m)\u001b[0m\u001b[0;34m)\u001b[0m\u001b[0;34m\u001b[0m\u001b[0;34m\u001b[0m\u001b[0m\n\u001b[0m\u001b[1;32m      2\u001b[0m \u001b[0msns\u001b[0m\u001b[0;34m.\u001b[0m\u001b[0mcountplot\u001b[0m\u001b[0;34m(\u001b[0m\u001b[0mdata\u001b[0m\u001b[0;34m=\u001b[0m\u001b[0mdf\u001b[0m\u001b[0;34m,\u001b[0m \u001b[0mx\u001b[0m\u001b[0;34m=\u001b[0m\u001b[0;34m'sentiment_indobert'\u001b[0m\u001b[0;34m,\u001b[0m \u001b[0mpalette\u001b[0m\u001b[0;34m=\u001b[0m\u001b[0;34m'pastel'\u001b[0m\u001b[0;34m)\u001b[0m\u001b[0;34m\u001b[0m\u001b[0;34m\u001b[0m\u001b[0m\n\u001b[1;32m      3\u001b[0m \u001b[0mplt\u001b[0m\u001b[0;34m.\u001b[0m\u001b[0mtitle\u001b[0m\u001b[0;34m(\u001b[0m\u001b[0;34m'Distribusi Sentimen Komentar (IndoBERT)'\u001b[0m\u001b[0;34m)\u001b[0m\u001b[0;34m\u001b[0m\u001b[0;34m\u001b[0m\u001b[0m\n\u001b[1;32m      4\u001b[0m \u001b[0mplt\u001b[0m\u001b[0;34m.\u001b[0m\u001b[0mxlabel\u001b[0m\u001b[0;34m(\u001b[0m\u001b[0;34m'Sentimen'\u001b[0m\u001b[0;34m)\u001b[0m\u001b[0;34m\u001b[0m\u001b[0;34m\u001b[0m\u001b[0m\n\u001b[1;32m      5\u001b[0m \u001b[0mplt\u001b[0m\u001b[0;34m.\u001b[0m\u001b[0mylabel\u001b[0m\u001b[0;34m(\u001b[0m\u001b[0;34m'Jumlah Komentar'\u001b[0m\u001b[0;34m)\u001b[0m\u001b[0;34m\u001b[0m\u001b[0;34m\u001b[0m\u001b[0m\n",
            "\u001b[0;31mNameError\u001b[0m: name 'plt' is not defined"
          ]
        }
      ],
      "source": [
        "plt.figure(figsize=(6,4))\n",
        "sns.countplot(data=df, x='sentiment_indobert', palette='pastel')\n",
        "plt.title('Distribusi Sentimen Komentar (IndoBERT)')\n",
        "plt.xlabel('Sentimen')\n",
        "plt.ylabel('Jumlah Komentar')\n",
        "plt.show()"
      ]
    },
    {
      "cell_type": "code",
      "execution_count": null,
      "metadata": {
        "id": "-hcZjNETINul"
      },
      "outputs": [],
      "source": [
        "df['comment_length'] = df['comment'].astype(str).apply(len)\n",
        "\n",
        "plt.figure(figsize=(10,5))\n",
        "sns.histplot(df['comment_length'], bins=50, kde=True)\n",
        "plt.title('Distribusi Panjang Komentar')\n",
        "plt.xlabel('Jumlah Karakter')\n",
        "plt.ylabel('Frekuensi')\n",
        "plt.show()"
      ]
    },
    {
      "cell_type": "code",
      "execution_count": null,
      "metadata": {
        "id": "z2atAixjIirE"
      },
      "outputs": [],
      "source": [
        "if 'likes' in df.columns:\n",
        "    plt.figure(figsize=(10,5))\n",
        "    sns.boxplot(data=df, x='likes')\n",
        "    plt.title('Distribusi Likes')\n",
        "    plt.show()"
      ]
    },
    {
      "cell_type": "code",
      "execution_count": null,
      "metadata": {
        "id": "7Koz1D1rIpZh"
      },
      "outputs": [],
      "source": [
        "df['publishedAt'] = pd.to_datetime(df['publishedAt'], errors='coerce')\n",
        "\n",
        "df['publishedAt'].dt.date.value_counts().sort_index().plot(kind='line', figsize=(10,5))\n",
        "plt.title('Jumlah Komentar per Hari')\n",
        "plt.xlabel('Tanggal')\n",
        "plt.ylabel('Jumlah Komentar')\n",
        "plt.grid(True)\n",
        "plt.show()"
      ]
    },
    {
      "cell_type": "code",
      "execution_count": null,
      "metadata": {
        "id": "Twxj00NGJuO6"
      },
      "outputs": [],
      "source": [
        "numeric_cols = df.select_dtypes(include=np.number).columns.tolist()\n",
        "\n",
        "df[numeric_cols].hist(bins=30, figsize=(15, 10))\n",
        "plt.suptitle('Histogram dari Fitur Numerik')\n",
        "plt.show()"
      ]
    },
    {
      "cell_type": "code",
      "execution_count": null,
      "metadata": {
        "id": "0MillFxyoLTd"
      },
      "outputs": [],
      "source": [
        "if len(numeric_cols) >= 2:\n",
        "    plt.figure(figsize=(8, 5))\n",
        "    sns.scatterplot(data=df, x=numeric_cols[0], y=numeric_cols[1])\n",
        "    plt.title(f'Scatter Plot: {numeric_cols[0]} vs {numeric_cols[1]}')\n",
        "    plt.show()"
      ]
    },
    {
      "cell_type": "markdown",
      "metadata": {
        "id": "nCGxX4-ZWS80"
      },
      "source": [
        "#**SPLITTING DATA**"
      ]
    },
    {
      "cell_type": "code",
      "execution_count": null,
      "metadata": {
        "id": "1XlXMkurWVjP"
      },
      "outputs": [],
      "source": [
        "# ADAPTASI: Membagi data menjadi train, validation, dan test set untuk Indobert\n",
        "data_for_indobert = df[['stemming_ulasan', 'label']]\n",
        "df_train, df_test = train_test_split(data_for_indobert, test_size=0.2, random_state=42, stratify=data_for_indobert['label'])\n",
        "df_val, df_test = train_test_split(df_test, test_size=0.5, random_state=42, stratify=df_test['label']) # Split test into val and actual test\n",
        "\n",
        "print('Training data shape:', df_train.shape)\n",
        "print('Validation data shape:', df_val.shape)\n",
        "print('Test data shape:', df_test.shape)\n",
        "\n",
        "plt.figure(figsize=(5, 5))\n",
        "sns.countplot(x=df_train['label'])\n",
        "plt.title(\"Distribusi Label di Data Training\")\n",
        "plt.show()\n",
        "df_train.to_csv('data_training_indobert.csv', index=False)"
      ]
    },
    {
      "cell_type": "code",
      "execution_count": null,
      "metadata": {
        "id": "M1VLlDkfWalf"
      },
      "outputs": [],
      "source": [
        "plt.figure(figsize=(5, 5))\n",
        "sns.countplot(x=df_val['label'])\n",
        "plt.title(\"Distribusi Label di Data Validasi\")\n",
        "plt.show()\n",
        "df_val.to_csv('data_validasi_indobert.csv', index=False)"
      ]
    },
    {
      "cell_type": "code",
      "execution_count": null,
      "metadata": {
        "id": "tE2R9FloWch9"
      },
      "outputs": [],
      "source": [
        "plt.figure(figsize=(5, 5))\n",
        "sns.countplot(x=df_test['label'])\n",
        "plt.title(\"Distribusi Label di Data Testing\")\n",
        "plt.show()\n",
        "df_test.to_csv('data_testing_indobert.csv', index=False)"
      ]
    },
    {
      "cell_type": "markdown",
      "metadata": {
        "id": "z83_SL7hW2gg"
      },
      "source": [
        "#**IndoBERT MODEL IMPLEMENTATION**"
      ]
    },
    {
      "cell_type": "code",
      "execution_count": null,
      "metadata": {
        "id": "8zSdYo2dW7mH"
      },
      "outputs": [],
      "source": [
        "bert_tokenizer = BertTokenizer.from_pretrained('indobenchmark/indobert-base-p2')"
      ]
    },
    {
      "cell_type": "code",
      "execution_count": null,
      "metadata": {
        "id": "CGfrbNj_W-mV"
      },
      "outputs": [],
      "source": [
        "print('Kalimat contoh:', df['stemming_ulasan'].iloc[0])\n",
        "print('BERT Tokenizer:', bert_tokenizer.tokenize(df['stemming_ulasan'].iloc[0]))"
      ]
    },
    {
      "cell_type": "code",
      "execution_count": null,
      "metadata": {
        "id": "cGyYDUHCW-8t"
      },
      "outputs": [],
      "source": [
        "bert_input = bert_tokenizer.encode_plus(\n",
        "    df['stemming_ulasan'].iloc[0],\n",
        "    add_special_tokens=True,\n",
        "    padding='max_length',\n",
        "    truncation='longest_first',\n",
        "    max_length=50,\n",
        "    return_attention_mask=True,\n",
        "    return_token_type_ids=True\n",
        ")"
      ]
    },
    {
      "cell_type": "code",
      "execution_count": null,
      "metadata": {
        "id": "8fEsmoCvXAxE"
      },
      "outputs": [],
      "source": [
        "print('\\nKeys from bert_input:', bert_input.keys())\n",
        "print('Kalimat\\t\\t:', df['stemming_ulasan'].iloc[0])\n",
        "print('Tokenizer\\t:', bert_tokenizer.convert_ids_to_tokens(bert_input['input_ids']))\n",
        "print('Input IDs\\t:', bert_input['input_ids'])\n",
        "print('Token Type IDs\\t:', bert_input['token_type_ids'])\n",
        "print('Attention Mask\\t:', bert_input['attention_mask'])"
      ]
    },
    {
      "cell_type": "code",
      "execution_count": null,
      "metadata": {
        "id": "Pmz07BW1XDB_"
      },
      "outputs": [],
      "source": [
        "token_lens = []\n",
        "for txt in df['stemming_ulasan']:\n",
        "  tokens = bert_tokenizer.encode(txt)\n",
        "  token_lens.append(len(tokens))\n",
        "\n",
        "sns.histplot(token_lens, kde=True, stat='density', linewidth=0)\n",
        "plt.xlim([0, 100])\n",
        "plt.xlabel('Token count')\n",
        "plt.title(\"Distribusi Panjang Token Komentar\")\n",
        "plt.show()\n",
        "\n",
        "MAX_LENGTH = 50"
      ]
    },
    {
      "cell_type": "code",
      "execution_count": null,
      "metadata": {
        "id": "PXmq2XlKXJRg"
      },
      "outputs": [],
      "source": [
        "def convert_example_to_feature(sentence):\n",
        "  return bert_tokenizer.encode_plus(\n",
        "      sentence,\n",
        "      add_special_tokens=True,\n",
        "      padding='max_length',\n",
        "      truncation='longest_first',\n",
        "      max_length=MAX_LENGTH,\n",
        "      return_attention_mask=True,\n",
        "      return_token_type_ids=True\n",
        "  )\n",
        "\n",
        "def map_example_to_dict(input_ids, attention_masks, token_type_ids, label):\n",
        "  return {\n",
        "      \"input_ids\": input_ids,\n",
        "      \"token_type_ids\": token_type_ids,\n",
        "      \"attention_mask\": attention_masks,\n",
        "  }, label\n",
        "\n",
        "def encode_dataset(data_df):\n",
        "  input_ids_list = []\n",
        "  token_type_ids_list = []\n",
        "  attention_mask_list = []\n",
        "  label_list = []\n",
        "  for sentence, label in data_df.to_numpy():\n",
        "    bert_input = convert_example_to_feature(str(sentence)) # Pastikan input adalah string\n",
        "    input_ids_list.append(bert_input['input_ids'])\n",
        "    token_type_ids_list.append(bert_input['token_type_ids'])\n",
        "    attention_mask_list.append(bert_input['attention_mask'])\n",
        "    label_list.append([label])\n",
        "  return tf.data.Dataset.from_tensor_slices((input_ids_list, attention_mask_list, token_type_ids_list, label_list)).map(map_example_to_dict)\n",
        "\n",
        "train_encoded = encode_dataset(df_train).batch(32)\n",
        "test_encoded = encode_dataset(df_test).batch(32)\n",
        "val_encoded = encode_dataset(df_val).batch(32)"
      ]
    },
    {
      "cell_type": "code",
      "execution_count": null,
      "metadata": {
        "id": "ENmUi2DMXNf7"
      },
      "outputs": [],
      "source": [
        "bert_model = TFBertForSequenceClassification.from_pretrained(\n",
        "    'indobenchmark/indobert-base-p2', num_labels=3) # 3 kelas: negatif, positif, netral\n",
        "\n",
        "bert_model.compile(\n",
        "    optimizer=tf.keras.optimizers.Adam(learning_rate=0.00003),\n",
        "    loss=tf.keras.losses.SparseCategoricalCrossentropy(from_logits=True),\n",
        "    metrics=tf.keras.metrics.SparseCategoricalAccuracy('accuracy'))\n",
        "\n",
        "print(\"\\nMemulai pelatihan model IndoBERT...\")\n",
        "bert_history = bert_model.fit(train_encoded, epochs=5,\n",
        "                              batch_size=32, validation_data=val_encoded)"
      ]
    },
    {
      "cell_type": "code",
      "execution_count": null,
      "metadata": {
        "id": "brTRKqBKXVzu"
      },
      "outputs": [],
      "source": [
        "def plot_graphs(history, string):\n",
        "  plt.plot(history.history[string])\n",
        "  plt.plot(history.history['val_'+string])\n",
        "  plt.xlabel('Epochs')\n",
        "  plt.ylabel(string)\n",
        "  plt.legend([string, 'val_'+string])\n",
        "  plt.title(f\"Training and Validation {string.capitalize()}\")\n",
        "  plt.show()\n",
        "\n",
        "plot_graphs(bert_history, 'accuracy')\n",
        "plot_graphs(bert_history, 'loss')\n",
        "\n",
        "print('\\nEpoch No.  Train Accuracy  Train Loss      Val Accuracy    Val Loss')\n",
        "for i in range(len(bert_history.history['accuracy'])):\n",
        "  print('{:8d} {:10f} \\t {:10f} \\t {:10f} \\t {:10f}'.format(i + 1, bert_history.history['accuracy'][i],\n",
        "                                                            bert_history.history['loss'][i],\n",
        "                                                            bert_history.history['val_accuracy'][i],\n",
        "                                                            bert_history.history['val_loss'][i]))\n",
        "\n",
        "bert_model.save_weights('bert-model-youtube-sentiment.h5')\n",
        "print(\"\\nBobot model IndoBERT berhasil disimpan.\")"
      ]
    },
    {
      "cell_type": "markdown",
      "metadata": {
        "id": "gOJedukWHC8j"
      },
      "source": [
        "#**MODELING**"
      ]
    },
    {
      "cell_type": "code",
      "execution_count": null,
      "metadata": {
        "id": "k7CUOrZTFiTH"
      },
      "outputs": [],
      "source": [
        "print(\"\\nEvaluasi model IndoBERT pada data testing...\")\n",
        "score = bert_model.evaluate(test_encoded)\n",
        "print(f\"Test Accuracy: {score[1]:.4f}\")"
      ]
    },
    {
      "cell_type": "code",
      "execution_count": null,
      "metadata": {
        "id": "p_7LnUK0rRJc"
      },
      "outputs": [],
      "source": [
        "predicted_raw = bert_model.predict(test_encoded)\n",
        "y_pred = np.argmax(predicted_raw['logits'], axis=1)\n",
        "y_true = np.array([label for _, label_tensor in test_encoded for label in label_tensor.numpy().flatten()]) # Ekstrak label asli dari tf.data.Dataset"
      ]
    },
    {
      "cell_type": "code",
      "execution_count": null,
      "metadata": {
        "id": "kfhxHYB8Wqx8"
      },
      "outputs": [],
      "source": [
        "print(\"\\nAccuracy Score:\", accuracy_score(y_true, y_pred))\n",
        "print(\"\\nConfusion Matrix:\\n\", confusion_matrix(y_true, y_pred))\n",
        "\n",
        "# ADAPTASI: Menampilkan Classification Report dengan label yang benar\n",
        "sentiment_labels_numeric = {0: 'negatif', 1: 'positif', 2: 'netral'}\n",
        "y_true_named = np.array([sentiment_labels_numeric[val] for val in y_true])\n",
        "y_pred_named = np.array([sentiment_labels_numeric[val] for val in y_pred])\n",
        "\n",
        "print(\"\\nClassification Report:\\n\", classification_report(y_true_named, y_pred_named, zero_division=0))"
      ]
    },
    {
      "cell_type": "code",
      "execution_count": null,
      "metadata": {
        "id": "yFxtV4x1pLL_"
      },
      "outputs": [],
      "source": [
        "confm = confusion_matrix(y_true, y_pred)\n",
        "columns = ['negatif','positif','netral'] # Urutan ini harus cocok dengan mapping numerik 0, 1, 2\n",
        "df_cm = pd.DataFrame(confm, index=columns, columns=columns)\n",
        "ax = sns.heatmap(df_cm, cmap='Blues', annot=True, fmt='d')\n",
        "ax.set_title('Confusion Matrix IndoBERT')\n",
        "ax.set_xlabel('Label Prediksi')\n",
        "ax.set_ylabel('Label Sebenarnya')\n",
        "plt.show()"
      ]
    },
    {
      "cell_type": "markdown",
      "metadata": {
        "id": "KJye8WxlaxXd"
      },
      "source": [
        "##Perbandingan Beberapa Metode"
      ]
    },
    {
      "cell_type": "code",
      "execution_count": null,
      "metadata": {
        "id": "8w9yuXEvZj_b"
      },
      "outputs": [],
      "source": [
        "models = {\n",
        "    \"LinearSVC\": LinearSVC(random_state=42, max_iter=1000),\n",
        "    \"Naive Bayes\": MultinomialNB(),\n",
        "    \"Logistic Regression\": LogisticRegression(random_state=42, max_iter=1000),\n",
        "    \"Random Forest\": RandomForestClassifier(random_state=42, n_estimators=100),\n",
        "    \"KNN\": KNeighborsClassifier(),\n",
        "    \"Decision Tree\": DecisionTreeClassifier(random_state=42),\n",
        "    \"Gradient Boosting\": GradientBoostingClassifier(random_state=42, n_estimators=100),\n",
        "    \"AdaBoost\": AdaBoostClassifier(random_state=42, n_estimators=100),\n",
        "    \"SGD Classifier\": SGDClassifier(random_state=42, max_iter=1000, tol=1e-3),\n",
        "    \"MLP Classifier\": MLPClassifier(random_state=42, max_iter=300),\n",
        "    \"Dummy Classifier\": DummyClassifier(strategy=\"most_frequent\")\n",
        "}"
      ]
    },
    {
      "cell_type": "code",
      "execution_count": null,
      "metadata": {
        "id": "ZRx5AxQFG4nH"
      },
      "outputs": [],
      "source": [
        "results = {}\n",
        "\n",
        "for name, model in models.items():\n",
        "    print(f\"\\n--- Evaluasi Model: {name} ---\")\n",
        "    model.fit(X_train, y_train)\n",
        "    y_pred = model.predict(X_test)\n",
        "\n",
        "    acc = accuracy_score(y_test, y_pred)\n",
        "    prec = precision_score(y_test, y_pred, average='weighted', zero_division=0)\n",
        "    rec = recall_score(y_test, y_pred, average='weighted', zero_division=0)\n",
        "    f1 = f1_score(y_test, y_pred, average='weighted', zero_division=0)\n",
        "\n",
        "    results[name] = {\n",
        "        \"Accuracy\": acc,\n",
        "        \"Precision\": prec,\n",
        "        \"Recall\": rec,\n",
        "        \"F1-Score\": f1\n",
        "    }\n",
        "\n",
        "    print(classification_report(y_test, y_pred, zero_division=0))\n",
        "\n",
        "    cm = confusion_matrix(y_test, y_pred, labels=['negative', 'neutral', 'positive'])\n",
        "    sns.heatmap(cm, annot=True, fmt='d', cmap='Blues',\n",
        "                xticklabels=['negative', 'neutral', 'positive'],\n",
        "                yticklabels=['negative', 'neutral', 'positive'])\n",
        "    plt.title(f'Confusion Matrix - {name}')\n",
        "    plt.xlabel('Predicted')\n",
        "    plt.ylabel('Actual')\n",
        "    plt.show()\n",
        "\n",
        "results_df = pd.DataFrame(results).T.sort_values(by='F1-Score', ascending=False)\n",
        "print(\"\\n Perbandingan Performa Model Klasifikasi:\")\n",
        "display(results_df.style.background_gradient(cmap='Blues').format(\"{:.2%}\"))"
      ]
    },
    {
      "cell_type": "markdown",
      "metadata": {
        "id": "Zh8yM16YrWrQ"
      },
      "source": [
        "##**GRADIENT BOOST**\n",
        "Menggunakan model GRADIENT BOOST dikarenakan memiliki hasil akurasi yang paling tinggi."
      ]
    },
    {
      "cell_type": "code",
      "execution_count": null,
      "metadata": {
        "id": "aZoihkP2HHjX"
      },
      "outputs": [],
      "source": [
        "# Training model final (contoh: Gradient Boosting)\n",
        "print(\"\\n--- Training Final Model: Decision Tree ---\")\n",
        "model = DecisionTreeClassifier(random_state=42)\n",
        "model.fit(X_train, y_train)\n",
        "\n",
        "y_pred = model.predict(X_test)\n",
        "\n",
        "print(classification_report(y_test, y_pred))"
      ]
    },
    {
      "cell_type": "code",
      "execution_count": null,
      "metadata": {
        "id": "4PsGZ9A_Atbn"
      },
      "outputs": [],
      "source": [
        "cm = confusion_matrix(y_test, y_pred, labels=model.classes_)\n",
        "\n",
        "sns.heatmap(cm, annot=True, fmt='d', cmap='Blues', xticklabels=model.classes_, yticklabels=model.classes_)\n",
        "plt.title('Confusion Matrix - Decision Tree')\n",
        "plt.xlabel('Predicted')\n",
        "plt.ylabel('Actual')\n",
        "plt.show()"
      ]
    },
    {
      "cell_type": "code",
      "execution_count": null,
      "metadata": {
        "id": "YDtvKlDztWI2"
      },
      "outputs": [],
      "source": [
        "# Evaluasi\n",
        "print(f\"Akurasi       : {accuracy_score(y_test, y_pred):.2f}\")\n",
        "print(f\"Precision     : {precision_score(y_test, y_pred, average='weighted'):.2f}\")\n",
        "print(f\"Recall        : {recall_score(y_test, y_pred, average='weighted'):.2f}\")\n",
        "print(f\"F1-Score      : {f1_score(y_test, y_pred, average='weighted'):.2f}\")"
      ]
    },
    {
      "cell_type": "code",
      "execution_count": null,
      "metadata": {
        "id": "GI9fpyrovZhl"
      },
      "outputs": [],
      "source": [
        "joblib.dump(model, 'sentiment_model.pkl')\n",
        "joblib.dump(vectorizer, 'vectorizer.pkl')"
      ]
    },
    {
      "cell_type": "markdown",
      "metadata": {
        "id": "DizhEQU66_3u"
      },
      "source": [
        "##**Prediksi komentar manual**"
      ]
    },
    {
      "cell_type": "code",
      "execution_count": null,
      "metadata": {
        "id": "H4zjQ_HM6-T2"
      },
      "outputs": [],
      "source": [
        "# Load kembali model dan vectorizer (simulasi deployment)\n",
        "model = joblib.load('sentiment_model.pkl')\n",
        "vectorizer = joblib.load('vectorizer.pkl')\n",
        "\n",
        "# Fungsi prediksi\n",
        "def predict_sentiment(comment):\n",
        "    cleaned = clean_text(comment)\n",
        "    vect = vectorizer.transform([cleaned])\n",
        "    pred = model.predict(vect)[0]\n",
        "    return pred"
      ]
    },
    {
      "cell_type": "code",
      "execution_count": null,
      "metadata": {
        "id": "KtVyE9BY7Ldw"
      },
      "outputs": [],
      "source": [
        "# Input komentar dari user\n",
        "user_input = input(\"Masukkan komentar YouTube: \")\n",
        "result = predict_sentiment(user_input)\n",
        "print(f\"\\nSentimen prediksi: {result}\")"
      ]
    }
  ],
  "metadata": {
    "colab": {
      "provenance": []
    },
    "kernelspec": {
      "display_name": "Python 3",
      "name": "python3"
    },
    "language_info": {
      "name": "python",
      "version": "3.13.3"
    }
  },
  "nbformat": 4,
  "nbformat_minor": 0
}
