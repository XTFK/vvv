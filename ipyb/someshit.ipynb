{
  "cells": [
    {
      "cell_type": "markdown",
      "metadata": {
        "id": "qW9IGcVuBnqz"
      },
      "source": [
        "#**LIBRARY**"
      ]
    },
    {
      "cell_type": "code",
      "execution_count": 1,
      "metadata": {
        "id": "QrUTL3IlBb1R"
      },
      "outputs": [
        {
          "name": "stderr",
          "output_type": "stream",
          "text": [
            "c:\\Users\\taufi\\AppData\\Local\\Programs\\Python\\Python311\\Lib\\site-packages\\tqdm\\auto.py:21: TqdmWarning: IProgress not found. Please update jupyter and ipywidgets. See https://ipywidgets.readthedocs.io/en/stable/user_install.html\n",
            "  from .autonotebook import tqdm as notebook_tqdm\n"
          ]
        },
        {
          "name": "stdout",
          "output_type": "stream",
          "text": [
            "WARNING:tensorflow:From c:\\Users\\taufi\\AppData\\Local\\Programs\\Python\\Python311\\Lib\\site-packages\\tf_keras\\src\\losses.py:2976: The name tf.losses.sparse_softmax_cross_entropy is deprecated. Please use tf.compat.v1.losses.sparse_softmax_cross_entropy instead.\n",
            "\n"
          ]
        }
      ],
      "source": [
        "import json\n",
        "import re\n",
        "import string\n",
        "import warnings\n",
        "\n",
        "import matplotlib.pyplot as plt\n",
        "import numpy as np\n",
        "import pandas as pd\n",
        "import plotly.express as px\n",
        "import plotly.graph_objects as go\n",
        "import seaborn as sns\n",
        "import tensorflow as tf\n",
        "\n",
        "import nltk\n",
        "from Sastrawi.Stemmer.StemmerFactory import StemmerFactory\n",
        "from Sastrawi.StopWordRemover.StopWordRemoverFactory import StopWordRemoverFactory\n",
        "from nlp_id.lemmatizer import Lemmatizer\n",
        "from nlp_id.stopword import StopWord\n",
        "from nlp_id.tokenizer import Tokenizer\n",
        "from sklearn.metrics import accuracy_score, classification_report, confusion_matrix, precision_score, recall_score, f1_score\n",
        "from sklearn.model_selection import train_test_split\n",
        "from transformers import BertTokenizer, TFBertForSequenceClassification\n",
        "from wordcloud import WordCloud\n",
        "\n",
        "import joblib"
      ]
    },
    {
      "cell_type": "code",
      "execution_count": 2,
      "metadata": {
        "id": "3sClZkuGFe0Y"
      },
      "outputs": [],
      "source": [
        "warnings.filterwarnings('ignore')\n",
        "np.set_printoptions(precision=2, linewidth=80)"
      ]
    },
    {
      "cell_type": "code",
      "execution_count": 3,
      "metadata": {
        "colab": {
          "base_uri": "https://localhost:8080/"
        },
        "id": "5TubPDYjEx10",
        "outputId": "dd56e59c-c695-4011-dd26-e21474a2f683"
      },
      "outputs": [
        {
          "name": "stdout",
          "output_type": "stream",
          "text": [
            "Downloading NLTK 'punkt' tokenizer...\n",
            "Downloading NLTK 'stopwords' corpus...\n",
            "Downloading NLTK 'wordnet' corpus...\n"
          ]
        },
        {
          "name": "stderr",
          "output_type": "stream",
          "text": [
            "[nltk_data] Downloading package punkt to\n",
            "[nltk_data]     C:\\Users\\taufi\\AppData\\Roaming\\nltk_data...\n",
            "[nltk_data]   Package punkt is already up-to-date!\n",
            "[nltk_data] Downloading package stopwords to\n",
            "[nltk_data]     C:\\Users\\taufi\\AppData\\Roaming\\nltk_data...\n",
            "[nltk_data]   Package stopwords is already up-to-date!\n",
            "[nltk_data] Downloading package wordnet to\n",
            "[nltk_data]     C:\\Users\\taufi\\AppData\\Roaming\\nltk_data...\n",
            "[nltk_data]   Package wordnet is already up-to-date!\n"
          ]
        },
        {
          "data": {
            "text/plain": [
              "True"
            ]
          },
          "execution_count": 3,
          "metadata": {},
          "output_type": "execute_result"
        }
      ],
      "source": [
        "# --- BAGIAN NLTK TANPA TRY-EXCEPT ---\n",
        "# Mengunduh resource NLTK yang dibutuhkan secara langsung\n",
        "print(\"Downloading NLTK 'punkt' tokenizer...\")\n",
        "nltk.download('punkt')\n",
        "\n",
        "print(\"Downloading NLTK 'stopwords' corpus...\")\n",
        "nltk.download('stopwords')\n",
        "\n",
        "print(\"Downloading NLTK 'wordnet' corpus...\")\n",
        "nltk.download('wordnet')"
      ]
    },
    {
      "cell_type": "markdown",
      "metadata": {
        "id": "WOlLl85sBsDP"
      },
      "source": [
        "#**DATA**"
      ]
    },
    {
      "cell_type": "code",
      "execution_count": 4,
      "metadata": {},
      "outputs": [],
      "source": [
        "tokenizer_id = Tokenizer()\n",
        "stopword_id = StopWord()\n",
        "stemmer_factory = StemmerFactory()\n",
        "stemmer = stemmer_factory.create_stemmer()"
      ]
    },
    {
      "cell_type": "code",
      "execution_count": 5,
      "metadata": {},
      "outputs": [
        {
          "name": "stdout",
          "output_type": "stream",
          "text": [
            "\n",
            "Kamus normalisasi slang berhasil dimuat.\n"
          ]
        }
      ],
      "source": [
        "with open('D:/22.11.5169/SEM 6/PROJ DATMIN/huh/vvv/txt/combined_slang_words.txt') as f:\n",
        "    data_slang = f.read()\n",
        "formal_indo = json.loads(data_slang)\n",
        "print(\"\\nKamus normalisasi slang berhasil dimuat.\")"
      ]
    },
    {
      "cell_type": "code",
      "execution_count": 6,
      "metadata": {},
      "outputs": [],
      "source": [
        "def informal_to_formal_indo(text):\n",
        "    if not formal_indo:\n",
        "        return text\n",
        "    # Gunakan split() untuk memisahkan kata dan get() untuk mencari di kamus\n",
        "    res = \" \".join(formal_indo.get(ele, ele) for ele in text.split())\n",
        "    return res"
      ]
    },
    {
      "cell_type": "code",
      "execution_count": 7,
      "metadata": {},
      "outputs": [],
      "source": [
        "def my_full_text_preprocessor_optimized(doc):\n",
        "    # Membersihkan karakter khusus\n",
        "    doc = re.sub(r'@[A-Za-z0-9]+', '', doc) # Menghapus mention\n",
        "    doc = re.sub(r'#[A-Za-z0-9]+', '', doc) # Menghapus hashtag\n",
        "    doc = re.sub(r'RT[\\s]', '', doc) # Menghapus RT\n",
        "    doc = re.sub(r\"http\\S+\", '', doc) # Menghapus URL\n",
        "    doc = re.sub(r'[0-9]+', '', doc) # Menghapus angka\n",
        "    doc = re.sub(r'(.)\\1{2,}',r'\\1\\1', doc) # Mengurangi pengulangan karakter lebih dari 2x (contoh: \"halooolo\" -> \"halolo\")\n",
        "    doc = re.sub(r'[\\?\\.\\!]+(?=[\\?.\\!])', '',doc) # Mengurangi pengulangan tanda baca (contoh: \"????\" -> \"??\")\n",
        "    doc = re.sub(r'[^a-zA-Z ]','', doc) # Hanya menyisakan huruf alfabet dan spasi\n",
        "    doc = re.sub(r'\\b(\\w+)( \\1\\b)+', r'\\1', doc) # Menghapus pengulangan kata (contoh: \"baik baik\" -> \"baik\")\n",
        "    doc = doc.replace('\\n', ' ') # Mengganti newline dengan spasi\n",
        "    doc = doc.strip(' ') # Menghapus spasi di awal/akhir\n",
        "\n",
        "    # Mengubah menjadi huruf kecil\n",
        "    doc = doc.lower()\n",
        "\n",
        "    # Text Normalization (kata slang)\n",
        "    doc = informal_to_formal_indo(doc)\n",
        "\n",
        "    # Whitespace Removal\n",
        "    doc = doc.strip()\n",
        "\n",
        "    # Tokenization\n",
        "    doc_tokens = tokenizer_id.tokenize(doc)\n",
        "\n",
        "    # Stopwords Removal\n",
        "    doc_tokens_no_stopwords = [word for word in doc_tokens if word not in stopword_id.get_stopword()]\n",
        "\n",
        "    # Stemming (menggunakan Sastrawi) - Pilihan: Stemming Sastrawi atau Lemmatization nlp_id\n",
        "    doc_stemmed_tokens = [stemmer.stem(word) for word in doc_tokens_no_stopwords]\n",
        "\n",
        "    # Gabungkan kembali menjadi string\n",
        "    return \" \".join(doc_stemmed_tokens)"
      ]
    },
    {
      "cell_type": "code",
      "execution_count": 8,
      "metadata": {
        "colab": {
          "base_uri": "https://localhost:8080/",
          "height": 206
        },
        "id": "uXprBB0FDsPf",
        "outputId": "d3f507da-73a9-4f30-84b3-03ab2353ef1f"
      },
      "outputs": [
        {
          "data": {
            "text/html": [
              "<div>\n",
              "<style scoped>\n",
              "    .dataframe tbody tr th:only-of-type {\n",
              "        vertical-align: middle;\n",
              "    }\n",
              "\n",
              "    .dataframe tbody tr th {\n",
              "        vertical-align: top;\n",
              "    }\n",
              "\n",
              "    .dataframe thead th {\n",
              "        text-align: right;\n",
              "    }\n",
              "</style>\n",
              "<table border=\"1\" class=\"dataframe\">\n",
              "  <thead>\n",
              "    <tr style=\"text-align: right;\">\n",
              "      <th></th>\n",
              "      <th>Time</th>\n",
              "      <th>UserName</th>\n",
              "      <th>Comment</th>\n",
              "      <th>LikeCount</th>\n",
              "    </tr>\n",
              "  </thead>\n",
              "  <tbody>\n",
              "    <tr>\n",
              "      <th>0</th>\n",
              "      <td>2025-05-15T15:04:49Z</td>\n",
              "      <td>@fajarhamdani1134</td>\n",
              "      <td>Sangat betul...</td>\n",
              "      <td>0</td>\n",
              "    </tr>\n",
              "    <tr>\n",
              "      <th>1</th>\n",
              "      <td>2025-05-13T21:18:46Z</td>\n",
              "      <td>@SuponoPono-n5g</td>\n",
              "      <td>Ternak MULYONO manaaa ngertiiii......biangnya ...</td>\n",
              "      <td>0</td>\n",
              "    </tr>\n",
              "    <tr>\n",
              "      <th>2</th>\n",
              "      <td>2025-05-13T21:18:23Z</td>\n",
              "      <td>@SuponoPono-n5g</td>\n",
              "      <td>Ternak MULYONO manaaa ngertiiii......biangnya ...</td>\n",
              "      <td>0</td>\n",
              "    </tr>\n",
              "    <tr>\n",
              "      <th>3</th>\n",
              "      <td>2025-05-13T21:12:52Z</td>\n",
              "      <td>@SuponoPono-n5g</td>\n",
              "      <td>Ternak MULYONO manaaa ngertiiii......biangnya ...</td>\n",
              "      <td>0</td>\n",
              "    </tr>\n",
              "    <tr>\n",
              "      <th>4</th>\n",
              "      <td>2025-05-13T21:11:00Z</td>\n",
              "      <td>@SuponoPono-n5g</td>\n",
              "      <td>Ternak MULYONO manaaa ngertiiii......biangnya ...</td>\n",
              "      <td>0</td>\n",
              "    </tr>\n",
              "  </tbody>\n",
              "</table>\n",
              "</div>"
            ],
            "text/plain": [
              "                   Time           UserName  \\\n",
              "0  2025-05-15T15:04:49Z  @fajarhamdani1134   \n",
              "1  2025-05-13T21:18:46Z    @SuponoPono-n5g   \n",
              "2  2025-05-13T21:18:23Z    @SuponoPono-n5g   \n",
              "3  2025-05-13T21:12:52Z    @SuponoPono-n5g   \n",
              "4  2025-05-13T21:11:00Z    @SuponoPono-n5g   \n",
              "\n",
              "                                             Comment  LikeCount  \n",
              "0                                    Sangat betul...          0  \n",
              "1  Ternak MULYONO manaaa ngertiiii......biangnya ...          0  \n",
              "2  Ternak MULYONO manaaa ngertiiii......biangnya ...          0  \n",
              "3  Ternak MULYONO manaaa ngertiiii......biangnya ...          0  \n",
              "4  Ternak MULYONO manaaa ngertiiii......biangnya ...          0  "
            ]
          },
          "execution_count": 8,
          "metadata": {},
          "output_type": "execute_result"
        }
      ],
      "source": [
        "df = pd.read_csv(\"D:/22.11.5169/SEM 6/PROJ DATMIN/huh/vvv/csv/youtube-comments.csv\")\n",
        "df.columns = [\"Time\", \"UserName\", \"Comment\", \"LikeCount\"]\n",
        "df.head()"
      ]
    },
    {
      "cell_type": "markdown",
      "metadata": {
        "id": "HzBYiTWY-4sp"
      },
      "source": [
        "#**DATA DESCRIPTION**"
      ]
    },
    {
      "cell_type": "code",
      "execution_count": 9,
      "metadata": {
        "colab": {
          "base_uri": "https://localhost:8080/"
        },
        "id": "95zldJDN-4LO",
        "outputId": "455e2c07-565a-4933-9ede-cb913c2e4abf"
      },
      "outputs": [
        {
          "name": "stdout",
          "output_type": "stream",
          "text": [
            "Ukuran dataset: (19686, 4)\n"
          ]
        }
      ],
      "source": [
        "print(\"Ukuran dataset:\", df.shape)"
      ]
    },
    {
      "cell_type": "code",
      "execution_count": 10,
      "metadata": {
        "colab": {
          "base_uri": "https://localhost:8080/"
        },
        "id": "x4UeIb6g_FP-",
        "outputId": "334ec1d7-3f6e-4c62-d262-a43e1ea0d3ed"
      },
      "outputs": [
        {
          "name": "stdout",
          "output_type": "stream",
          "text": [
            "\n",
            "Info kolom:\n",
            "<class 'pandas.core.frame.DataFrame'>\n",
            "RangeIndex: 19686 entries, 0 to 19685\n",
            "Data columns (total 4 columns):\n",
            " #   Column     Non-Null Count  Dtype \n",
            "---  ------     --------------  ----- \n",
            " 0   Time       19686 non-null  object\n",
            " 1   UserName   19684 non-null  object\n",
            " 2   Comment    19686 non-null  object\n",
            " 3   LikeCount  19686 non-null  int64 \n",
            "dtypes: int64(1), object(3)\n",
            "memory usage: 615.3+ KB\n"
          ]
        }
      ],
      "source": [
        "print(\"\\nInfo kolom:\")\n",
        "df.info()"
      ]
    },
    {
      "cell_type": "code",
      "execution_count": 11,
      "metadata": {
        "colab": {
          "base_uri": "https://localhost:8080/"
        },
        "id": "5LnvXLFD_Ivy",
        "outputId": "f9cb4ba5-cf44-47e9-e6b8-981282e5c437"
      },
      "outputs": [
        {
          "name": "stdout",
          "output_type": "stream",
          "text": [
            "          LikeCount\n",
            "count  19686.000000\n",
            "mean       3.239155\n",
            "std      106.122095\n",
            "min        0.000000\n",
            "25%        0.000000\n",
            "50%        0.000000\n",
            "75%        0.000000\n",
            "max    10225.000000\n"
          ]
        }
      ],
      "source": [
        "df.describe()\n",
        "print(df.describe())"
      ]
    },
    {
      "cell_type": "code",
      "execution_count": 12,
      "metadata": {
        "colab": {
          "base_uri": "https://localhost:8080/"
        },
        "id": "wcmpPV_rHwzw",
        "outputId": "73c6f650-8df2-4907-94f7-b1505fa4715e"
      },
      "outputs": [
        {
          "name": "stdout",
          "output_type": "stream",
          "text": [
            "\n",
            "Cek Nilai Kosong:\n",
            "Time         0\n",
            "UserName     2\n",
            "Comment      0\n",
            "LikeCount    0\n",
            "dtype: int64\n"
          ]
        }
      ],
      "source": [
        "print(\"\\nCek Nilai Kosong:\")\n",
        "print(df.isnull().sum())"
      ]
    },
    {
      "cell_type": "code",
      "execution_count": 13,
      "metadata": {
        "colab": {
          "base_uri": "https://localhost:8080/"
        },
        "id": "LNRJan2QHqm7",
        "outputId": "2686f695-a100-4b58-b6eb-a9984c6ef804"
      },
      "outputs": [
        {
          "name": "stdout",
          "output_type": "stream",
          "text": [
            "\n",
            "Jumlah komentar unik: 19297\n",
            "Jumlah komentar duplikat: 389\n"
          ]
        }
      ],
      "source": [
        "print(\"\\nJumlah komentar unik:\", df['Comment'].nunique())\n",
        "print(\"Jumlah komentar duplikat:\", df.duplicated('Comment').sum())"
      ]
    },
    {
      "cell_type": "markdown",
      "metadata": {
        "id": "CIV53a7rEHPo"
      },
      "source": [
        "#**CLEANING DATA**"
      ]
    },
    {
      "cell_type": "code",
      "execution_count": 14,
      "metadata": {
        "colab": {
          "base_uri": "https://localhost:8080/"
        },
        "id": "MfMELxLb0Zo7",
        "outputId": "3b63aa77-8ee6-4454-bdf8-ed0f2efbd509"
      },
      "outputs": [
        {
          "name": "stdout",
          "output_type": "stream",
          "text": [
            "\n",
            "Setelah menghapus nilai kosong:\n",
            "Time         0\n",
            "UserName     0\n",
            "Comment      0\n",
            "LikeCount    0\n",
            "dtype: int64\n"
          ]
        }
      ],
      "source": [
        "df = df.dropna()\n",
        "print(\"\\nSetelah menghapus nilai kosong:\")\n",
        "print(df.isnull().sum())"
      ]
    },
    {
      "cell_type": "code",
      "execution_count": 15,
      "metadata": {
        "colab": {
          "base_uri": "https://localhost:8080/",
          "height": 206
        },
        "id": "CgsG3JlAQQO4",
        "outputId": "ed240efa-0b16-4fed-cd5d-f90f3b9942e6"
      },
      "outputs": [
        {
          "data": {
            "text/html": [
              "<div>\n",
              "<style scoped>\n",
              "    .dataframe tbody tr th:only-of-type {\n",
              "        vertical-align: middle;\n",
              "    }\n",
              "\n",
              "    .dataframe tbody tr th {\n",
              "        vertical-align: top;\n",
              "    }\n",
              "\n",
              "    .dataframe thead th {\n",
              "        text-align: right;\n",
              "    }\n",
              "</style>\n",
              "<table border=\"1\" class=\"dataframe\">\n",
              "  <thead>\n",
              "    <tr style=\"text-align: right;\">\n",
              "      <th></th>\n",
              "      <th>Time</th>\n",
              "      <th>UserName</th>\n",
              "      <th>Comment</th>\n",
              "      <th>LikeCount</th>\n",
              "    </tr>\n",
              "  </thead>\n",
              "  <tbody>\n",
              "    <tr>\n",
              "      <th>0</th>\n",
              "      <td>2025-05-15T15:04:49Z</td>\n",
              "      <td>@fajarhamdani1134</td>\n",
              "      <td>Sangat betul...</td>\n",
              "      <td>0</td>\n",
              "    </tr>\n",
              "    <tr>\n",
              "      <th>1</th>\n",
              "      <td>2025-05-13T21:18:46Z</td>\n",
              "      <td>@SuponoPono-n5g</td>\n",
              "      <td>Ternak MULYONO manaaa ngertiiii......biangnya ...</td>\n",
              "      <td>0</td>\n",
              "    </tr>\n",
              "    <tr>\n",
              "      <th>5</th>\n",
              "      <td>2025-05-13T15:41:27Z</td>\n",
              "      <td>@BadariahAhmad-b7t</td>\n",
              "      <td>Kerja sawit di msia sudah middle upper class bro</td>\n",
              "      <td>0</td>\n",
              "    </tr>\n",
              "    <tr>\n",
              "      <th>6</th>\n",
              "      <td>2025-05-13T09:29:59Z</td>\n",
              "      <td>@mibaa7578</td>\n",
              "      <td>Seorang yg begitu bijak.. tahniah org muda.❤</td>\n",
              "      <td>0</td>\n",
              "    </tr>\n",
              "    <tr>\n",
              "      <th>7</th>\n",
              "      <td>2025-05-13T06:34:59Z</td>\n",
              "      <td>@RobiRahmathidayat01</td>\n",
              "      <td>Parah 😂</td>\n",
              "      <td>0</td>\n",
              "    </tr>\n",
              "  </tbody>\n",
              "</table>\n",
              "</div>"
            ],
            "text/plain": [
              "                   Time              UserName  \\\n",
              "0  2025-05-15T15:04:49Z     @fajarhamdani1134   \n",
              "1  2025-05-13T21:18:46Z       @SuponoPono-n5g   \n",
              "5  2025-05-13T15:41:27Z    @BadariahAhmad-b7t   \n",
              "6  2025-05-13T09:29:59Z            @mibaa7578   \n",
              "7  2025-05-13T06:34:59Z  @RobiRahmathidayat01   \n",
              "\n",
              "                                             Comment  LikeCount  \n",
              "0                                    Sangat betul...          0  \n",
              "1  Ternak MULYONO manaaa ngertiiii......biangnya ...          0  \n",
              "5   Kerja sawit di msia sudah middle upper class bro          0  \n",
              "6       Seorang yg begitu bijak.. tahniah org muda.❤          0  \n",
              "7                                            Parah 😂          0  "
            ]
          },
          "execution_count": 15,
          "metadata": {},
          "output_type": "execute_result"
        }
      ],
      "source": [
        "df = df.drop_duplicates(subset=\"Comment\", keep=\"first\")\n",
        "df.head()"
      ]
    },
    {
      "cell_type": "code",
      "execution_count": 16,
      "metadata": {},
      "outputs": [
        {
          "name": "stdout",
          "output_type": "stream",
          "text": [
            "\n",
            "Kolom 'Comment' setelah pre-processing (processed_comment):\n",
            "                                             Comment  \\\n",
            "0                                    Sangat betul...   \n",
            "1  Ternak MULYONO manaaa ngertiiii......biangnya ...   \n",
            "5   Kerja sawit di msia sudah middle upper class bro   \n",
            "6       Seorang yg begitu bijak.. tahniah org muda.❤   \n",
            "7                                            Parah 😂   \n",
            "\n",
            "                                   processed_comment  \n",
            "0                                                     \n",
            "1  ternak mulyono manaa ngertiibiangnya gak jelaa...  \n",
            "5   kerja sawit msia middle upper class saudara laki  \n",
            "6                             bijak tahniah org muda  \n",
            "7                                              parah  \n",
            "\n",
            "File CSV pra-pemrosesan berhasil disimpan.\n"
          ]
        }
      ],
      "source": [
        "# Terapkan pra-pemrosesan yang dioptimalkan\n",
        "df['processed_comment'] = df['Comment'].apply(my_full_text_preprocessor_optimized)\n",
        "print(\"\\nKolom 'Comment' setelah pre-processing (processed_comment):\")\n",
        "print(df[['Comment', 'processed_comment']].head())\n",
        "\n",
        "# Simpan hasil pra-pemrosesan jika diperlukan untuk inspeksi\n",
        "df.to_csv('Youtube-Processed-Comments.csv', index=False)\n",
        "print(\"\\nFile CSV pra-pemrosesan berhasil disimpan.\")"
      ]
    },
    {
      "cell_type": "markdown",
      "metadata": {},
      "source": [
        "#**SENTIMEN ANALISIS BERBASIS LEXICAN**"
      ]
    },
    {
      "cell_type": "code",
      "execution_count": 17,
      "metadata": {
        "id": "HO0578izRTXv"
      },
      "outputs": [],
      "source": [
        "def loadLexicon(file_path):\n",
        "    with open(file_path, \"r\", encoding=\"utf-8\", errors='replace') as f:\n",
        "        data = f.readlines()\n",
        "    return [d.strip().lower() for d in data if d.strip()]"
      ]
    },
    {
      "cell_type": "code",
      "execution_count": 18,
      "metadata": {
        "colab": {
          "base_uri": "https://localhost:8080/"
        },
        "id": "uUYkNBmfRYCj",
        "outputId": "a0167c2c-0d18-4e04-d822-12667a5cb39e"
      },
      "outputs": [],
      "source": [
        "positif_words_ta2 = loadLexicon(\"D:/22.11.5169/SEM 6/PROJ DATMIN/huh/vvv/txt/positif_ta2.txt\")\n",
        "positif_words_keyword = loadLexicon(\"D:/22.11.5169/SEM 6/PROJ DATMIN/huh/vvv/txt/positive_keyword.txt\")\n",
        "positif_words_add = loadLexicon(\"D:/22.11.5169/SEM 6/PROJ DATMIN/huh/vvv/txt/positive_add.txt\")"
      ]
    },
    {
      "cell_type": "code",
      "execution_count": 22,
      "metadata": {},
      "outputs": [],
      "source": [
        "# Gabungkan dan pastikan unik\n",
        "all_positive_words = list(set(positif_words_ta2 + positif_words_keyword + positif_words_add))\n",
        "\n",
        "all_negative_words = loadLexicon(\"D:/22.11.5169/SEM 6/PROJ DATMIN/huh/vvv/txt/negatif_ta2.txt\")\n",
        "\n",
        "negasi_words = loadLexicon(\"D:/22.11.5169/SEM 6/PROJ DATMIN/huh/vvv/txt/negation.txt\")\n",
        "negasi_words_after = loadLexicon(\"D:/22.11.5169/SEM 6/PROJ DATMIN/huh/vvv/txt/negation_after.txt\") # Jika relevan\n",
        "all_negation_words = list(set(negasi_words + negasi_words_after))"
      ]
    },
    {
      "cell_type": "code",
      "execution_count": 23,
      "metadata": {},
      "outputs": [
        {
          "name": "stdout",
          "output_type": "stream",
          "text": [
            "\n",
            "Kamus leksikon bahasa Indonesia (positif, negatif, negasi) berhasil dimuat dan digabungkan.\n"
          ]
        }
      ],
      "source": [
        "print(\"\\nKamus leksikon bahasa Indonesia (positif, negatif, negasi) berhasil dimuat dan digabungkan.\")"
      ]
    },
    {
      "cell_type": "code",
      "execution_count": 24,
      "metadata": {},
      "outputs": [],
      "source": [
        "# Buat leksikon sebagai dictionary dengan skor default\n",
        "sentiment_lexicon = {}\n",
        "for word in all_positive_words:\n",
        "    sentiment_lexicon[word] = 1\n",
        "for word in all_negative_words:\n",
        "    sentiment_lexicon[word] = -1"
      ]
    },
    {
      "cell_type": "code",
      "execution_count": 25,
      "metadata": {},
      "outputs": [],
      "source": [
        "# Daftar intensifier dan reducers beserta faktor pengalinya (bisa disesuaikan)\n",
        "intensifiers = {'sangat': 1.5, 'amat': 1.5, 'sekali': 1.5, 'banget': 1.5, 'paling': 1.5}\n",
        "reducers = {'agak': 0.5, 'kurang': 0.5, 'sedikit': 0.5}"
      ]
    },
    {
      "cell_type": "code",
      "execution_count": 27,
      "metadata": {},
      "outputs": [],
      "source": [
        "def prediksiSentiment_lexicon_advanced(kalimat_str, sentiment_lexicon, negasi_list, intensifiers, reducers):\n",
        "    total_score = 0\n",
        "    words_in_sentence = kalimat_str.split()\n",
        "    \n",
        "    # Track jika kata sebelumnya adalah negasi\n",
        "    is_prev_word_negation = False\n",
        "    \n",
        "    for i, word in enumerate(words_in_sentence):\n",
        "        current_word_score = 0\n",
        "        \n",
        "        # Cek apakah kata saat ini adalah kata negasi\n",
        "        if word in negasi_list:\n",
        "            is_prev_word_negation = True\n",
        "            continue # Lanjutkan ke kata berikutnya, negasi akan diterapkan pada kata sentimen berikutnya\n",
        "        else:\n",
        "            is_prev_word_negation = False # Reset flag jika bukan kata negasi\n",
        "\n",
        "        # Cek apakah kata saat ini adalah intensifier/reducer\n",
        "        multiplier = 1.0\n",
        "        if word in intensifiers:\n",
        "            multiplier = intensifiers[word]\n",
        "            # Jika intensifier, aplikasikan ke kata sentimen berikutnya jika ada\n",
        "            if i + 1 < len(words_in_sentence) and words_in_sentence[i+1] in sentiment_lexicon:\n",
        "                pass # Biarkan multiplier digunakan pada kata berikutnya\n",
        "            else:\n",
        "                # Jika intensifier berdiri sendiri atau tidak diikuti kata sentimen, abaikan sebagai multiplier\n",
        "                multiplier = 1.0\n",
        "            continue # Langsung ke kata berikutnya karena intensifier sendiri tidak punya sentimen\n",
        "\n",
        "        elif word in reducers:\n",
        "            multiplier = reducers[word]\n",
        "            # Jika reducer, aplikasikan ke kata sentimen berikutnya jika ada\n",
        "            if i + 1 < len(words_in_sentence) and words_in_sentence[i+1] in sentiment_lexicon:\n",
        "                pass # Biarkan multiplier digunakan pada kata berikutnya\n",
        "            else:\n",
        "                multiplier = 1.0\n",
        "            continue # Langsung ke kata berikutnya\n",
        "\n",
        "        # Cek apakah kata adalah sentimen\n",
        "        if word in sentiment_lexicon:\n",
        "            score = sentiment_lexicon[word]\n",
        "\n",
        "            # Terapkan negasi dari kata sebelumnya\n",
        "            if i > 0 and words_in_sentence[i-1] in negasi_list:\n",
        "                score *= -1 # Membalikkan sentimen\n",
        "\n",
        "            # Terapkan intensifier/reducer dari kata sebelumnya\n",
        "            # Ini asumsi sederhana, bisa lebih kompleks\n",
        "            if i > 0:\n",
        "                prev_word = words_in_sentence[i-1]\n",
        "                if prev_word in intensifiers:\n",
        "                    score *= intensifiers[prev_word]\n",
        "                elif prev_word in reducers:\n",
        "                    score *= reducers[prev_word]\n",
        "            \n",
        "            total_score += score\n",
        "\n",
        "    # Tentukan sentimen berdasarkan total_score\n",
        "    if total_score > 0.0:\n",
        "        return 'positif'\n",
        "    elif total_score < 0.0:\n",
        "        return 'negatif'\n",
        "    else:\n",
        "        return 'netral' # Bisa diubah menjadi range (e.g., -0.1 to 0.1)"
      ]
    },
    {
      "cell_type": "code",
      "execution_count": 28,
      "metadata": {},
      "outputs": [],
      "source": [
        "# Terapkan model leksikon pada kolom 'processed_comment'\n",
        "df['label_lexicon'] = df['processed_comment'].apply(\n",
        "    lambda x: prediksiSentiment_lexicon_advanced(x, sentiment_lexicon, all_negation_words, intensifiers, reducers)\n",
        ")"
      ]
    },
    {
      "cell_type": "code",
      "execution_count": 29,
      "metadata": {},
      "outputs": [
        {
          "name": "stdout",
          "output_type": "stream",
          "text": [
            "\n",
            "Dataset setelah pelabelan sentimen dengan leksikon (Advanced):\n",
            "                                             Comment  \\\n",
            "0                                    Sangat betul...   \n",
            "1  Ternak MULYONO manaaa ngertiiii......biangnya ...   \n",
            "5   Kerja sawit di msia sudah middle upper class bro   \n",
            "6       Seorang yg begitu bijak.. tahniah org muda.❤   \n",
            "7                                            Parah 😂   \n",
            "\n",
            "                                   processed_comment label_lexicon  \n",
            "0                                                           netral  \n",
            "1  ternak mulyono manaa ngertiibiangnya gak jelaa...        netral  \n",
            "5   kerja sawit msia middle upper class saudara laki       positif  \n",
            "6                             bijak tahniah org muda       positif  \n",
            "7                                              parah       negatif  \n"
          ]
        }
      ],
      "source": [
        "print(\"\\nDataset setelah pelabelan sentimen dengan leksikon (Advanced):\")\n",
        "print(df[['Comment', 'processed_comment', 'label_lexicon']].head())"
      ]
    },
    {
      "cell_type": "code",
      "execution_count": 30,
      "metadata": {},
      "outputs": [
        {
          "name": "stdout",
          "output_type": "stream",
          "text": [
            "\n",
            "Distribusi Sentimen setelah pelabelan leksikon:\n",
            "label_lexicon\n",
            "netral     7078\n",
            "positif    6524\n",
            "negatif    5693\n",
            "Name: count, dtype: int64\n"
          ]
        },
        {
          "data": {
            "image/png": "[encoded data removed]",
            "text/plain": [
              "<Figure size 640x480 with 1 Axes>"
            ]
          },
          "metadata": {},
          "output_type": "display_data"
        }
      ],
      "source": [
        "print(\"\\nDistribusi Sentimen setelah pelabelan leksikon:\")\n",
        "print(df['label_lexicon'].value_counts())\n",
        "df['label_lexicon'].value_counts().plot.pie(autopct='%.2f')\n",
        "plt.title(\"Distribusi Sentimen Komentar YouTube (Lexicon-Based Advanced)\")\n",
        "plt.show()"
      ]
    },
    {
      "cell_type": "markdown",
      "metadata": {
        "id": "KXcp0List_cp"
      },
      "source": [
        "###**Sample Code**"
      ]
    },
    {
      "cell_type": "code",
      "execution_count": null,
      "metadata": {},
      "outputs": [],
      "source": [
        "df['label_lexicon_numeric'] = df['label_lexicon'].map({'negatif': 0, 'positif': 1, 'netral': 2})"
      ]
    },
    {
      "cell_type": "code",
      "execution_count": 31,
      "metadata": {
        "colab": {
          "base_uri": "https://localhost:8080/"
        },
        "id": "glMktKSTbWVR",
        "outputId": "c7b5e588-4d70-414c-8692-f8dafd036452"
      },
      "outputs": [
        {
          "name": "stdout",
          "output_type": "stream",
          "text": [
            "File CSV berhasil disimpan.\n"
          ]
        }
      ],
      "source": [
        "df.to_csv('Youtube-Sentimen.csv', index=False)\n",
        "\n",
        "print(\"File CSV berhasil disimpan.\")"
      ]
    }
  ],
  "metadata": {
    "colab": {
      "provenance": []
    },
    "kernelspec": {
      "display_name": "Python 3",
      "name": "python3"
    },
    "language_info": {
      "codemirror_mode": {
        "name": "ipython",
        "version": 3
      },
      "file_extension": ".py",
      "mimetype": "text/x-python",
      "name": "python",
      "nbconvert_exporter": "python",
      "pygments_lexer": "ipython3",
      "version": "3.11.0rc2"
    }
  },
  "nbformat": 4,
  "nbformat_minor": 0
}
